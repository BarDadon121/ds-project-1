{
 "cells": [
  {
   "cell_type": "code",
   "execution_count": 180,
   "id": "4215a778",
   "metadata": {},
   "outputs": [],
   "source": [
    "import numpy as np\n",
    "import pandas as pd\n",
    "import matplotlib\n",
    "import matplotlib.pyplot as plt\n",
    "import seaborn as sns\n",
    "%matplotlib inline"
   ]
  },
  {
   "cell_type": "code",
   "execution_count": 181,
   "id": "35cf500f",
   "metadata": {},
   "outputs": [
    {
     "data": {
      "text/html": [
       "<div>\n",
       "<style scoped>\n",
       "    .dataframe tbody tr th:only-of-type {\n",
       "        vertical-align: middle;\n",
       "    }\n",
       "\n",
       "    .dataframe tbody tr th {\n",
       "        vertical-align: top;\n",
       "    }\n",
       "\n",
       "    .dataframe thead th {\n",
       "        text-align: right;\n",
       "    }\n",
       "</style>\n",
       "<table border=\"1\" class=\"dataframe\">\n",
       "  <thead>\n",
       "    <tr style=\"text-align: right;\">\n",
       "      <th></th>\n",
       "      <th>id</th>\n",
       "      <th>state</th>\n",
       "      <th>postal_code</th>\n",
       "      <th>product</th>\n",
       "      <th>user_id</th>\n",
       "      <th>square_ft</th>\n",
       "      <th>high_risk_dog</th>\n",
       "      <th>has_fire_alarm</th>\n",
       "      <th>has_burglar_alarm</th>\n",
       "      <th>portable_electronics</th>\n",
       "      <th>coast</th>\n",
       "      <th>fire_housing_proximity</th>\n",
       "      <th>previous_policies</th>\n",
       "      <th>user_age</th>\n",
       "      <th>card_type</th>\n",
       "      <th>target</th>\n",
       "    </tr>\n",
       "  </thead>\n",
       "  <tbody>\n",
       "    <tr>\n",
       "      <th>0</th>\n",
       "      <td>2492008697672104938</td>\n",
       "      <td>NM</td>\n",
       "      <td>87043</td>\n",
       "      <td>ho4</td>\n",
       "      <td>-9160046293075786063</td>\n",
       "      <td>NaN</td>\n",
       "      <td>0</td>\n",
       "      <td>True</td>\n",
       "      <td>True</td>\n",
       "      <td>0.0</td>\n",
       "      <td>NaN</td>\n",
       "      <td>5</td>\n",
       "      <td>0</td>\n",
       "      <td>39.0</td>\n",
       "      <td>credit</td>\n",
       "      <td>False</td>\n",
       "    </tr>\n",
       "    <tr>\n",
       "      <th>1</th>\n",
       "      <td>886075317023782670</td>\n",
       "      <td>WI</td>\n",
       "      <td>53715</td>\n",
       "      <td>ho4</td>\n",
       "      <td>-8929003830875133003</td>\n",
       "      <td>NaN</td>\n",
       "      <td>0</td>\n",
       "      <td>True</td>\n",
       "      <td>False</td>\n",
       "      <td>1.0</td>\n",
       "      <td>30.0</td>\n",
       "      <td>1</td>\n",
       "      <td>0</td>\n",
       "      <td>19.0</td>\n",
       "      <td>debit</td>\n",
       "      <td>False</td>\n",
       "    </tr>\n",
       "    <tr>\n",
       "      <th>2</th>\n",
       "      <td>5527292118261850881</td>\n",
       "      <td>WI</td>\n",
       "      <td>53211</td>\n",
       "      <td>ho4</td>\n",
       "      <td>-9015977226434470133</td>\n",
       "      <td>NaN</td>\n",
       "      <td>0</td>\n",
       "      <td>True</td>\n",
       "      <td>False</td>\n",
       "      <td>1.0</td>\n",
       "      <td>1.0</td>\n",
       "      <td>1</td>\n",
       "      <td>0</td>\n",
       "      <td>20.0</td>\n",
       "      <td>debit</td>\n",
       "      <td>True</td>\n",
       "    </tr>\n",
       "    <tr>\n",
       "      <th>3</th>\n",
       "      <td>6453397743269682220</td>\n",
       "      <td>NM</td>\n",
       "      <td>88012</td>\n",
       "      <td>ho4</td>\n",
       "      <td>-9060026899039337265</td>\n",
       "      <td>NaN</td>\n",
       "      <td>0</td>\n",
       "      <td>True</td>\n",
       "      <td>True</td>\n",
       "      <td>1.0</td>\n",
       "      <td>NaN</td>\n",
       "      <td>1</td>\n",
       "      <td>0</td>\n",
       "      <td>33.0</td>\n",
       "      <td>debit</td>\n",
       "      <td>False</td>\n",
       "    </tr>\n",
       "    <tr>\n",
       "      <th>4</th>\n",
       "      <td>-8836394806705049849</td>\n",
       "      <td>AR</td>\n",
       "      <td>72116</td>\n",
       "      <td>ho4</td>\n",
       "      <td>-8801719090048493625</td>\n",
       "      <td>NaN</td>\n",
       "      <td>0</td>\n",
       "      <td>False</td>\n",
       "      <td>False</td>\n",
       "      <td>1.0</td>\n",
       "      <td>NaN</td>\n",
       "      <td>1</td>\n",
       "      <td>0</td>\n",
       "      <td>20.0</td>\n",
       "      <td>debit</td>\n",
       "      <td>False</td>\n",
       "    </tr>\n",
       "  </tbody>\n",
       "</table>\n",
       "</div>"
      ],
      "text/plain": [
       "                    id state  postal_code product              user_id  \\\n",
       "0  2492008697672104938    NM        87043     ho4 -9160046293075786063   \n",
       "1   886075317023782670    WI        53715     ho4 -8929003830875133003   \n",
       "2  5527292118261850881    WI        53211     ho4 -9015977226434470133   \n",
       "3  6453397743269682220    NM        88012     ho4 -9060026899039337265   \n",
       "4 -8836394806705049849    AR        72116     ho4 -8801719090048493625   \n",
       "\n",
       "   square_ft  high_risk_dog  has_fire_alarm  has_burglar_alarm  \\\n",
       "0        NaN              0            True               True   \n",
       "1        NaN              0            True              False   \n",
       "2        NaN              0            True              False   \n",
       "3        NaN              0            True               True   \n",
       "4        NaN              0           False              False   \n",
       "\n",
       "   portable_electronics  coast fire_housing_proximity  previous_policies  \\\n",
       "0                   0.0    NaN                      5                  0   \n",
       "1                   1.0   30.0                      1                  0   \n",
       "2                   1.0    1.0                      1                  0   \n",
       "3                   1.0    NaN                      1                  0   \n",
       "4                   1.0    NaN                      1                  0   \n",
       "\n",
       "   user_age card_type  target  \n",
       "0      39.0    credit   False  \n",
       "1      19.0     debit   False  \n",
       "2      20.0     debit    True  \n",
       "3      33.0     debit   False  \n",
       "4      20.0     debit   False  "
      ]
     },
     "execution_count": 181,
     "metadata": {},
     "output_type": "execute_result"
    }
   ],
   "source": [
    "df = pd.read_csv('ds_home_task.csv')\n",
    "df.head()"
   ]
  },
  {
   "cell_type": "code",
   "execution_count": 182,
   "id": "11aa6c56",
   "metadata": {},
   "outputs": [
    {
     "data": {
      "text/plain": [
       "Index(['id', 'state', 'postal_code', 'product', 'user_id', 'square_ft',\n",
       "       'high_risk_dog', 'has_fire_alarm', 'has_burglar_alarm',\n",
       "       'portable_electronics', 'coast', 'fire_housing_proximity',\n",
       "       'previous_policies', 'user_age', 'card_type', 'target'],\n",
       "      dtype='object')"
      ]
     },
     "execution_count": 182,
     "metadata": {},
     "output_type": "execute_result"
    }
   ],
   "source": [
    "df.columns"
   ]
  },
  {
   "cell_type": "code",
   "execution_count": 183,
   "id": "b04959a9",
   "metadata": {},
   "outputs": [
    {
     "name": "stdout",
     "output_type": "stream",
     "text": [
      "<class 'pandas.core.frame.DataFrame'>\n",
      "RangeIndex: 12397 entries, 0 to 12396\n",
      "Data columns (total 16 columns):\n",
      " #   Column                  Non-Null Count  Dtype  \n",
      "---  ------                  --------------  -----  \n",
      " 0   id                      12397 non-null  int64  \n",
      " 1   state                   12397 non-null  object \n",
      " 2   postal_code             12397 non-null  int64  \n",
      " 3   product                 12397 non-null  object \n",
      " 4   user_id                 12397 non-null  int64  \n",
      " 5   square_ft               279 non-null    float64\n",
      " 6   high_risk_dog           12397 non-null  int64  \n",
      " 7   has_fire_alarm          12397 non-null  bool   \n",
      " 8   has_burglar_alarm       12397 non-null  bool   \n",
      " 9   portable_electronics    11990 non-null  float64\n",
      " 10  coast                   11242 non-null  float64\n",
      " 11  fire_housing_proximity  12397 non-null  object \n",
      " 12  previous_policies       12397 non-null  int64  \n",
      " 13  user_age                12315 non-null  float64\n",
      " 14  card_type               12345 non-null  object \n",
      " 15  target                  12397 non-null  bool   \n",
      "dtypes: bool(3), float64(4), int64(5), object(4)\n",
      "memory usage: 1.3+ MB\n"
     ]
    }
   ],
   "source": [
    "df.info()"
   ]
  },
  {
   "cell_type": "code",
   "execution_count": 184,
   "id": "d15de28d",
   "metadata": {},
   "outputs": [
    {
     "data": {
      "text/plain": [
       "(12397, 16)"
      ]
     },
     "execution_count": 184,
     "metadata": {},
     "output_type": "execute_result"
    }
   ],
   "source": [
    "df.shape"
   ]
  },
  {
   "cell_type": "markdown",
   "id": "f1a24225",
   "metadata": {},
   "source": [
    "### Missing Values"
   ]
  },
  {
   "cell_type": "code",
   "execution_count": 185,
   "id": "cd14c13c",
   "metadata": {},
   "outputs": [
    {
     "data": {
      "text/plain": [
       "id                            0\n",
       "state                         0\n",
       "postal_code                   0\n",
       "product                       0\n",
       "user_id                       0\n",
       "square_ft                 12118\n",
       "high_risk_dog                 0\n",
       "has_fire_alarm                0\n",
       "has_burglar_alarm             0\n",
       "portable_electronics        407\n",
       "coast                      1155\n",
       "fire_housing_proximity        0\n",
       "previous_policies             0\n",
       "user_age                     82\n",
       "card_type                    52\n",
       "target                        0\n",
       "dtype: int64"
      ]
     },
     "execution_count": 185,
     "metadata": {},
     "output_type": "execute_result"
    }
   ],
   "source": [
    "df.isnull().sum()"
   ]
  },
  {
   "cell_type": "code",
   "execution_count": 186,
   "id": "1da851d2",
   "metadata": {},
   "outputs": [
    {
     "data": {
      "text/plain": [
       "['square_ft', 'portable_electronics', 'coast', 'user_age', 'card_type']"
      ]
     },
     "execution_count": 186,
     "metadata": {},
     "output_type": "execute_result"
    }
   ],
   "source": [
    "[features for features in df.columns if df[features].isnull().sum()>0]"
   ]
  },
  {
   "cell_type": "code",
   "execution_count": 187,
   "id": "13074ad4",
   "metadata": {},
   "outputs": [
    {
     "data": {
      "text/plain": [
       "<AxesSubplot:>"
      ]
     },
     "execution_count": 187,
     "metadata": {},
     "output_type": "execute_result"
    },
    {
     "data": {
      "image/png": "[encoded data removed]",
      "text/plain": [
       "<Figure size 432x288 with 1 Axes>"
      ]
     },
     "metadata": {
      "needs_background": "light"
     },
     "output_type": "display_data"
    }
   ],
   "source": [
    "sns.heatmap(df.isnull(), yticklabels=False, cbar=False, cmap='viridis')"
   ]
  },
  {
   "cell_type": "code",
   "execution_count": 188,
   "id": "d8e51f7a",
   "metadata": {},
   "outputs": [],
   "source": [
    "new_df = df.drop(['id', 'user_id'], axis = 1)"
   ]
  },
  {
   "cell_type": "code",
   "execution_count": 189,
   "id": "2394305e",
   "metadata": {},
   "outputs": [
    {
     "data": {
      "text/html": [
       "<div>\n",
       "<style scoped>\n",
       "    .dataframe tbody tr th:only-of-type {\n",
       "        vertical-align: middle;\n",
       "    }\n",
       "\n",
       "    .dataframe tbody tr th {\n",
       "        vertical-align: top;\n",
       "    }\n",
       "\n",
       "    .dataframe thead th {\n",
       "        text-align: right;\n",
       "    }\n",
       "</style>\n",
       "<table border=\"1\" class=\"dataframe\">\n",
       "  <thead>\n",
       "    <tr style=\"text-align: right;\">\n",
       "      <th></th>\n",
       "      <th>state</th>\n",
       "      <th>postal_code</th>\n",
       "      <th>product</th>\n",
       "      <th>square_ft</th>\n",
       "      <th>high_risk_dog</th>\n",
       "      <th>has_fire_alarm</th>\n",
       "      <th>has_burglar_alarm</th>\n",
       "      <th>portable_electronics</th>\n",
       "      <th>coast</th>\n",
       "      <th>fire_housing_proximity</th>\n",
       "      <th>previous_policies</th>\n",
       "      <th>user_age</th>\n",
       "      <th>card_type</th>\n",
       "      <th>target</th>\n",
       "    </tr>\n",
       "  </thead>\n",
       "  <tbody>\n",
       "    <tr>\n",
       "      <th>0</th>\n",
       "      <td>NM</td>\n",
       "      <td>87043</td>\n",
       "      <td>ho4</td>\n",
       "      <td>NaN</td>\n",
       "      <td>0</td>\n",
       "      <td>True</td>\n",
       "      <td>True</td>\n",
       "      <td>0.0</td>\n",
       "      <td>NaN</td>\n",
       "      <td>5</td>\n",
       "      <td>0</td>\n",
       "      <td>39.0</td>\n",
       "      <td>credit</td>\n",
       "      <td>False</td>\n",
       "    </tr>\n",
       "    <tr>\n",
       "      <th>1</th>\n",
       "      <td>WI</td>\n",
       "      <td>53715</td>\n",
       "      <td>ho4</td>\n",
       "      <td>NaN</td>\n",
       "      <td>0</td>\n",
       "      <td>True</td>\n",
       "      <td>False</td>\n",
       "      <td>1.0</td>\n",
       "      <td>30.0</td>\n",
       "      <td>1</td>\n",
       "      <td>0</td>\n",
       "      <td>19.0</td>\n",
       "      <td>debit</td>\n",
       "      <td>False</td>\n",
       "    </tr>\n",
       "    <tr>\n",
       "      <th>2</th>\n",
       "      <td>WI</td>\n",
       "      <td>53211</td>\n",
       "      <td>ho4</td>\n",
       "      <td>NaN</td>\n",
       "      <td>0</td>\n",
       "      <td>True</td>\n",
       "      <td>False</td>\n",
       "      <td>1.0</td>\n",
       "      <td>1.0</td>\n",
       "      <td>1</td>\n",
       "      <td>0</td>\n",
       "      <td>20.0</td>\n",
       "      <td>debit</td>\n",
       "      <td>True</td>\n",
       "    </tr>\n",
       "    <tr>\n",
       "      <th>3</th>\n",
       "      <td>NM</td>\n",
       "      <td>88012</td>\n",
       "      <td>ho4</td>\n",
       "      <td>NaN</td>\n",
       "      <td>0</td>\n",
       "      <td>True</td>\n",
       "      <td>True</td>\n",
       "      <td>1.0</td>\n",
       "      <td>NaN</td>\n",
       "      <td>1</td>\n",
       "      <td>0</td>\n",
       "      <td>33.0</td>\n",
       "      <td>debit</td>\n",
       "      <td>False</td>\n",
       "    </tr>\n",
       "    <tr>\n",
       "      <th>4</th>\n",
       "      <td>AR</td>\n",
       "      <td>72116</td>\n",
       "      <td>ho4</td>\n",
       "      <td>NaN</td>\n",
       "      <td>0</td>\n",
       "      <td>False</td>\n",
       "      <td>False</td>\n",
       "      <td>1.0</td>\n",
       "      <td>NaN</td>\n",
       "      <td>1</td>\n",
       "      <td>0</td>\n",
       "      <td>20.0</td>\n",
       "      <td>debit</td>\n",
       "      <td>False</td>\n",
       "    </tr>\n",
       "  </tbody>\n",
       "</table>\n",
       "</div>"
      ],
      "text/plain": [
       "  state  postal_code product  square_ft  high_risk_dog  has_fire_alarm  \\\n",
       "0    NM        87043     ho4        NaN              0            True   \n",
       "1    WI        53715     ho4        NaN              0            True   \n",
       "2    WI        53211     ho4        NaN              0            True   \n",
       "3    NM        88012     ho4        NaN              0            True   \n",
       "4    AR        72116     ho4        NaN              0           False   \n",
       "\n",
       "   has_burglar_alarm  portable_electronics  coast fire_housing_proximity  \\\n",
       "0               True                   0.0    NaN                      5   \n",
       "1              False                   1.0   30.0                      1   \n",
       "2              False                   1.0    1.0                      1   \n",
       "3               True                   1.0    NaN                      1   \n",
       "4              False                   1.0    NaN                      1   \n",
       "\n",
       "   previous_policies  user_age card_type  target  \n",
       "0                  0      39.0    credit   False  \n",
       "1                  0      19.0     debit   False  \n",
       "2                  0      20.0     debit    True  \n",
       "3                  0      33.0     debit   False  \n",
       "4                  0      20.0     debit   False  "
      ]
     },
     "execution_count": 189,
     "metadata": {},
     "output_type": "execute_result"
    }
   ],
   "source": [
    "new_df.head()"
   ]
  },
  {
   "cell_type": "code",
   "execution_count": 190,
   "id": "8cbac69b",
   "metadata": {},
   "outputs": [
    {
     "name": "stdout",
     "output_type": "stream",
     "text": [
      "square_ft 0.9775  % missing values.\n",
      "portable_electronics 0.0328  % missing values.\n",
      "coast 0.0932  % missing values.\n",
      "user_age 0.0066  % missing values.\n",
      "card_type 0.0042  % missing values.\n"
     ]
    }
   ],
   "source": [
    "features_with_na = [features for features in new_df.columns if new_df[features].isnull().sum() > 0]\n",
    "\n",
    "for feature in features_with_na:\n",
    "    print(feature, np.round(new_df[feature].isnull().mean(), 4), ' % missing values.')"
   ]
  },
  {
   "cell_type": "code",
   "execution_count": 191,
   "id": "faaf2777",
   "metadata": {},
   "outputs": [
    {
     "data": {
      "image/png": "[encoded data removed]",
      "text/plain": [
       "<Figure size 432x288 with 1 Axes>"
      ]
     },
     "metadata": {
      "needs_background": "light"
     },
     "output_type": "display_data"
    },
    {
     "data": {
      "image/png": "[encoded data removed]",
      "text/plain": [
       "<Figure size 432x288 with 1 Axes>"
      ]
     },
     "metadata": {
      "needs_background": "light"
     },
     "output_type": "display_data"
    },
    {
     "data": {
      "image/png": "[encoded data removed]",
      "text/plain": [
       "<Figure size 432x288 with 1 Axes>"
      ]
     },
     "metadata": {
      "needs_background": "light"
     },
     "output_type": "display_data"
    },
    {
     "data": {
      "image/png": "[encoded data removed]",
      "text/plain": [
       "<Figure size 432x288 with 1 Axes>"
      ]
     },
     "metadata": {
      "needs_background": "light"
     },
     "output_type": "display_data"
    },
    {
     "data": {
      "image/png": "[encoded data removed]",
      "text/plain": [
       "<Figure size 432x288 with 1 Axes>"
      ]
     },
     "metadata": {
      "needs_background": "light"
     },
     "output_type": "display_data"
    }
   ],
   "source": [
    "for feature in features_with_na:\n",
    "    data = new_df.copy()\n",
    "    data['target'].replace({False: 0, True: 1}, inplace=True)\n",
    "    data[feature] = np.where(data[feature].isnull(), 1, 0)\n",
    "    data.groupby(feature)['target'].count().plot.bar()\n",
    "    plt.title(feature)\n",
    "    plt.show()\n",
    "   "
   ]
  },
  {
   "cell_type": "code",
   "execution_count": 192,
   "id": "91d48500",
   "metadata": {
    "scrolled": true
   },
   "outputs": [
    {
     "data": {
      "text/html": [
       "<div>\n",
       "<style scoped>\n",
       "    .dataframe tbody tr th:only-of-type {\n",
       "        vertical-align: middle;\n",
       "    }\n",
       "\n",
       "    .dataframe tbody tr th {\n",
       "        vertical-align: top;\n",
       "    }\n",
       "\n",
       "    .dataframe thead th {\n",
       "        text-align: right;\n",
       "    }\n",
       "</style>\n",
       "<table border=\"1\" class=\"dataframe\">\n",
       "  <thead>\n",
       "    <tr style=\"text-align: right;\">\n",
       "      <th></th>\n",
       "      <th>state</th>\n",
       "      <th>postal_code</th>\n",
       "      <th>product</th>\n",
       "      <th>square_ft</th>\n",
       "      <th>high_risk_dog</th>\n",
       "      <th>has_fire_alarm</th>\n",
       "      <th>has_burglar_alarm</th>\n",
       "      <th>portable_electronics</th>\n",
       "      <th>coast</th>\n",
       "      <th>fire_housing_proximity</th>\n",
       "      <th>previous_policies</th>\n",
       "      <th>user_age</th>\n",
       "      <th>card_type</th>\n",
       "      <th>target</th>\n",
       "    </tr>\n",
       "  </thead>\n",
       "  <tbody>\n",
       "    <tr>\n",
       "      <th>0</th>\n",
       "      <td>NM</td>\n",
       "      <td>87043</td>\n",
       "      <td>ho4</td>\n",
       "      <td>NaN</td>\n",
       "      <td>0</td>\n",
       "      <td>True</td>\n",
       "      <td>True</td>\n",
       "      <td>0.0</td>\n",
       "      <td>NaN</td>\n",
       "      <td>5</td>\n",
       "      <td>0</td>\n",
       "      <td>39.0</td>\n",
       "      <td>0</td>\n",
       "      <td>0</td>\n",
       "    </tr>\n",
       "    <tr>\n",
       "      <th>1</th>\n",
       "      <td>WI</td>\n",
       "      <td>53715</td>\n",
       "      <td>ho4</td>\n",
       "      <td>NaN</td>\n",
       "      <td>0</td>\n",
       "      <td>True</td>\n",
       "      <td>False</td>\n",
       "      <td>1.0</td>\n",
       "      <td>30.0</td>\n",
       "      <td>1</td>\n",
       "      <td>0</td>\n",
       "      <td>19.0</td>\n",
       "      <td>0</td>\n",
       "      <td>0</td>\n",
       "    </tr>\n",
       "    <tr>\n",
       "      <th>2</th>\n",
       "      <td>WI</td>\n",
       "      <td>53211</td>\n",
       "      <td>ho4</td>\n",
       "      <td>NaN</td>\n",
       "      <td>0</td>\n",
       "      <td>True</td>\n",
       "      <td>False</td>\n",
       "      <td>1.0</td>\n",
       "      <td>1.0</td>\n",
       "      <td>1</td>\n",
       "      <td>0</td>\n",
       "      <td>20.0</td>\n",
       "      <td>0</td>\n",
       "      <td>1</td>\n",
       "    </tr>\n",
       "    <tr>\n",
       "      <th>3</th>\n",
       "      <td>NM</td>\n",
       "      <td>88012</td>\n",
       "      <td>ho4</td>\n",
       "      <td>NaN</td>\n",
       "      <td>0</td>\n",
       "      <td>True</td>\n",
       "      <td>True</td>\n",
       "      <td>1.0</td>\n",
       "      <td>NaN</td>\n",
       "      <td>1</td>\n",
       "      <td>0</td>\n",
       "      <td>33.0</td>\n",
       "      <td>0</td>\n",
       "      <td>0</td>\n",
       "    </tr>\n",
       "    <tr>\n",
       "      <th>4</th>\n",
       "      <td>AR</td>\n",
       "      <td>72116</td>\n",
       "      <td>ho4</td>\n",
       "      <td>NaN</td>\n",
       "      <td>0</td>\n",
       "      <td>False</td>\n",
       "      <td>False</td>\n",
       "      <td>1.0</td>\n",
       "      <td>NaN</td>\n",
       "      <td>1</td>\n",
       "      <td>0</td>\n",
       "      <td>20.0</td>\n",
       "      <td>0</td>\n",
       "      <td>0</td>\n",
       "    </tr>\n",
       "  </tbody>\n",
       "</table>\n",
       "</div>"
      ],
      "text/plain": [
       "  state  postal_code product  square_ft  high_risk_dog  has_fire_alarm  \\\n",
       "0    NM        87043     ho4        NaN              0            True   \n",
       "1    WI        53715     ho4        NaN              0            True   \n",
       "2    WI        53211     ho4        NaN              0            True   \n",
       "3    NM        88012     ho4        NaN              0            True   \n",
       "4    AR        72116     ho4        NaN              0           False   \n",
       "\n",
       "   has_burglar_alarm  portable_electronics  coast fire_housing_proximity  \\\n",
       "0               True                   0.0    NaN                      5   \n",
       "1              False                   1.0   30.0                      1   \n",
       "2              False                   1.0    1.0                      1   \n",
       "3               True                   1.0    NaN                      1   \n",
       "4              False                   1.0    NaN                      1   \n",
       "\n",
       "   previous_policies  user_age  card_type  target  \n",
       "0                  0      39.0          0       0  \n",
       "1                  0      19.0          0       0  \n",
       "2                  0      20.0          0       1  \n",
       "3                  0      33.0          0       0  \n",
       "4                  0      20.0          0       0  "
      ]
     },
     "execution_count": 192,
     "metadata": {},
     "output_type": "execute_result"
    }
   ],
   "source": [
    "data.head()"
   ]
  },
  {
   "cell_type": "code",
   "execution_count": 193,
   "id": "dc39bbff",
   "metadata": {},
   "outputs": [
    {
     "name": "stdout",
     "output_type": "stream",
     "text": [
      "Number of numerical variables:  10\n"
     ]
    },
    {
     "data": {
      "text/html": [
       "<div>\n",
       "<style scoped>\n",
       "    .dataframe tbody tr th:only-of-type {\n",
       "        vertical-align: middle;\n",
       "    }\n",
       "\n",
       "    .dataframe tbody tr th {\n",
       "        vertical-align: top;\n",
       "    }\n",
       "\n",
       "    .dataframe thead th {\n",
       "        text-align: right;\n",
       "    }\n",
       "</style>\n",
       "<table border=\"1\" class=\"dataframe\">\n",
       "  <thead>\n",
       "    <tr style=\"text-align: right;\">\n",
       "      <th></th>\n",
       "      <th>postal_code</th>\n",
       "      <th>square_ft</th>\n",
       "      <th>high_risk_dog</th>\n",
       "      <th>has_fire_alarm</th>\n",
       "      <th>has_burglar_alarm</th>\n",
       "      <th>portable_electronics</th>\n",
       "      <th>coast</th>\n",
       "      <th>previous_policies</th>\n",
       "      <th>user_age</th>\n",
       "      <th>target</th>\n",
       "    </tr>\n",
       "  </thead>\n",
       "  <tbody>\n",
       "    <tr>\n",
       "      <th>0</th>\n",
       "      <td>87043</td>\n",
       "      <td>NaN</td>\n",
       "      <td>0</td>\n",
       "      <td>True</td>\n",
       "      <td>True</td>\n",
       "      <td>0.0</td>\n",
       "      <td>NaN</td>\n",
       "      <td>0</td>\n",
       "      <td>39.0</td>\n",
       "      <td>False</td>\n",
       "    </tr>\n",
       "    <tr>\n",
       "      <th>1</th>\n",
       "      <td>53715</td>\n",
       "      <td>NaN</td>\n",
       "      <td>0</td>\n",
       "      <td>True</td>\n",
       "      <td>False</td>\n",
       "      <td>1.0</td>\n",
       "      <td>30.0</td>\n",
       "      <td>0</td>\n",
       "      <td>19.0</td>\n",
       "      <td>False</td>\n",
       "    </tr>\n",
       "    <tr>\n",
       "      <th>2</th>\n",
       "      <td>53211</td>\n",
       "      <td>NaN</td>\n",
       "      <td>0</td>\n",
       "      <td>True</td>\n",
       "      <td>False</td>\n",
       "      <td>1.0</td>\n",
       "      <td>1.0</td>\n",
       "      <td>0</td>\n",
       "      <td>20.0</td>\n",
       "      <td>True</td>\n",
       "    </tr>\n",
       "    <tr>\n",
       "      <th>3</th>\n",
       "      <td>88012</td>\n",
       "      <td>NaN</td>\n",
       "      <td>0</td>\n",
       "      <td>True</td>\n",
       "      <td>True</td>\n",
       "      <td>1.0</td>\n",
       "      <td>NaN</td>\n",
       "      <td>0</td>\n",
       "      <td>33.0</td>\n",
       "      <td>False</td>\n",
       "    </tr>\n",
       "    <tr>\n",
       "      <th>4</th>\n",
       "      <td>72116</td>\n",
       "      <td>NaN</td>\n",
       "      <td>0</td>\n",
       "      <td>False</td>\n",
       "      <td>False</td>\n",
       "      <td>1.0</td>\n",
       "      <td>NaN</td>\n",
       "      <td>0</td>\n",
       "      <td>20.0</td>\n",
       "      <td>False</td>\n",
       "    </tr>\n",
       "  </tbody>\n",
       "</table>\n",
       "</div>"
      ],
      "text/plain": [
       "   postal_code  square_ft  high_risk_dog  has_fire_alarm  has_burglar_alarm  \\\n",
       "0        87043        NaN              0            True               True   \n",
       "1        53715        NaN              0            True              False   \n",
       "2        53211        NaN              0            True              False   \n",
       "3        88012        NaN              0            True               True   \n",
       "4        72116        NaN              0           False              False   \n",
       "\n",
       "   portable_electronics  coast  previous_policies  user_age  target  \n",
       "0                   0.0    NaN                  0      39.0   False  \n",
       "1                   1.0   30.0                  0      19.0   False  \n",
       "2                   1.0    1.0                  0      20.0    True  \n",
       "3                   1.0    NaN                  0      33.0   False  \n",
       "4                   1.0    NaN                  0      20.0   False  "
      ]
     },
     "execution_count": 193,
     "metadata": {},
     "output_type": "execute_result"
    }
   ],
   "source": [
    "numerical_features = [feature for feature in new_df.columns if new_df[feature].dtypes != 'O']\n",
    "print(\"Number of numerical variables: \", len(numerical_features))\n",
    "new_df[numerical_features].head()"
   ]
  },
  {
   "cell_type": "code",
   "execution_count": 194,
   "id": "648d0cf8",
   "metadata": {},
   "outputs": [
    {
     "name": "stdout",
     "output_type": "stream",
     "text": [
      "Discrete variable count: 7\n"
     ]
    }
   ],
   "source": [
    "discrete_features = [feature for feature in numerical_features if len(new_df[feature].unique())<25]\n",
    "print(\"Discrete variable count: {}\".format(len(discrete_features)))"
   ]
  },
  {
   "cell_type": "code",
   "execution_count": 195,
   "id": "066e4318",
   "metadata": {},
   "outputs": [
    {
     "data": {
      "text/plain": [
       "['high_risk_dog',\n",
       " 'has_fire_alarm',\n",
       " 'has_burglar_alarm',\n",
       " 'portable_electronics',\n",
       " 'coast',\n",
       " 'previous_policies',\n",
       " 'target']"
      ]
     },
     "execution_count": 195,
     "metadata": {},
     "output_type": "execute_result"
    }
   ],
   "source": [
    "discrete_features"
   ]
  },
  {
   "cell_type": "code",
   "execution_count": 196,
   "id": "37c54564",
   "metadata": {},
   "outputs": [
    {
     "data": {
      "text/html": [
       "<div>\n",
       "<style scoped>\n",
       "    .dataframe tbody tr th:only-of-type {\n",
       "        vertical-align: middle;\n",
       "    }\n",
       "\n",
       "    .dataframe tbody tr th {\n",
       "        vertical-align: top;\n",
       "    }\n",
       "\n",
       "    .dataframe thead th {\n",
       "        text-align: right;\n",
       "    }\n",
       "</style>\n",
       "<table border=\"1\" class=\"dataframe\">\n",
       "  <thead>\n",
       "    <tr style=\"text-align: right;\">\n",
       "      <th></th>\n",
       "      <th>high_risk_dog</th>\n",
       "      <th>has_fire_alarm</th>\n",
       "      <th>has_burglar_alarm</th>\n",
       "      <th>portable_electronics</th>\n",
       "      <th>coast</th>\n",
       "      <th>previous_policies</th>\n",
       "      <th>target</th>\n",
       "    </tr>\n",
       "  </thead>\n",
       "  <tbody>\n",
       "    <tr>\n",
       "      <th>0</th>\n",
       "      <td>0</td>\n",
       "      <td>True</td>\n",
       "      <td>True</td>\n",
       "      <td>0.0</td>\n",
       "      <td>NaN</td>\n",
       "      <td>0</td>\n",
       "      <td>False</td>\n",
       "    </tr>\n",
       "    <tr>\n",
       "      <th>1</th>\n",
       "      <td>0</td>\n",
       "      <td>True</td>\n",
       "      <td>False</td>\n",
       "      <td>1.0</td>\n",
       "      <td>30.0</td>\n",
       "      <td>0</td>\n",
       "      <td>False</td>\n",
       "    </tr>\n",
       "    <tr>\n",
       "      <th>2</th>\n",
       "      <td>0</td>\n",
       "      <td>True</td>\n",
       "      <td>False</td>\n",
       "      <td>1.0</td>\n",
       "      <td>1.0</td>\n",
       "      <td>0</td>\n",
       "      <td>True</td>\n",
       "    </tr>\n",
       "    <tr>\n",
       "      <th>3</th>\n",
       "      <td>0</td>\n",
       "      <td>True</td>\n",
       "      <td>True</td>\n",
       "      <td>1.0</td>\n",
       "      <td>NaN</td>\n",
       "      <td>0</td>\n",
       "      <td>False</td>\n",
       "    </tr>\n",
       "    <tr>\n",
       "      <th>4</th>\n",
       "      <td>0</td>\n",
       "      <td>False</td>\n",
       "      <td>False</td>\n",
       "      <td>1.0</td>\n",
       "      <td>NaN</td>\n",
       "      <td>0</td>\n",
       "      <td>False</td>\n",
       "    </tr>\n",
       "  </tbody>\n",
       "</table>\n",
       "</div>"
      ],
      "text/plain": [
       "   high_risk_dog  has_fire_alarm  has_burglar_alarm  portable_electronics  \\\n",
       "0              0            True               True                   0.0   \n",
       "1              0            True              False                   1.0   \n",
       "2              0            True              False                   1.0   \n",
       "3              0            True               True                   1.0   \n",
       "4              0           False              False                   1.0   \n",
       "\n",
       "   coast  previous_policies  target  \n",
       "0    NaN                  0   False  \n",
       "1   30.0                  0   False  \n",
       "2    1.0                  0    True  \n",
       "3    NaN                  0   False  \n",
       "4    NaN                  0   False  "
      ]
     },
     "execution_count": 196,
     "metadata": {},
     "output_type": "execute_result"
    }
   ],
   "source": [
    "new_df[discrete_features].head()"
   ]
  },
  {
   "cell_type": "code",
   "execution_count": 197,
   "id": "53ec3adb",
   "metadata": {},
   "outputs": [
    {
     "data": {
      "image/png": "[encoded data removed]",
      "text/plain": [
       "<Figure size 432x288 with 1 Axes>"
      ]
     },
     "metadata": {
      "needs_background": "light"
     },
     "output_type": "display_data"
    },
    {
     "data": {
      "image/png": "[encoded data removed]",
      "text/plain": [
       "<Figure size 432x288 with 1 Axes>"
      ]
     },
     "metadata": {
      "needs_background": "light"
     },
     "output_type": "display_data"
    },
    {
     "data": {
      "image/png": "[encoded data removed]",
      "text/plain": [
       "<Figure size 432x288 with 1 Axes>"
      ]
     },
     "metadata": {
      "needs_background": "light"
     },
     "output_type": "display_data"
    },
    {
     "data": {
      "image/png": "[encoded data removed]",
      "text/plain": [
       "<Figure size 432x288 with 1 Axes>"
      ]
     },
     "metadata": {
      "needs_background": "light"
     },
     "output_type": "display_data"
    },
    {
     "data": {
      "image/png": "[encoded data removed]",
      "text/plain": [
       "<Figure size 432x288 with 1 Axes>"
      ]
     },
     "metadata": {
      "needs_background": "light"
     },
     "output_type": "display_data"
    },
    {
     "data": {
      "image/png": "[encoded data removed]",
      "text/plain": [
       "<Figure size 432x288 with 1 Axes>"
      ]
     },
     "metadata": {
      "needs_background": "light"
     },
     "output_type": "display_data"
    },
    {
     "data": {
      "image/png": "[encoded data removed]",
      "text/plain": [
       "<Figure size 432x288 with 1 Axes>"
      ]
     },
     "metadata": {
      "needs_background": "light"
     },
     "output_type": "display_data"
    }
   ],
   "source": [
    "for feature in discrete_features:\n",
    "    data=new_df.copy()\n",
    "    data['target'].replace({False: 0, True: 1}, inplace=True)\n",
    "    data.groupby(feature)['target'].count().plot.bar()\n",
    "    plt.xlabel(feature)\n",
    "    plt.ylabel('target')\n",
    "    plt.title(feature)\n",
    "    plt.show()"
   ]
  },
  {
   "cell_type": "code",
   "execution_count": 198,
   "id": "aad17cb2",
   "metadata": {},
   "outputs": [
    {
     "data": {
      "text/plain": [
       "False    12116\n",
       "True       281\n",
       "Name: target, dtype: int64"
      ]
     },
     "execution_count": 198,
     "metadata": {},
     "output_type": "execute_result"
    }
   ],
   "source": [
    "new_df['target'].value_counts()"
   ]
  },
  {
   "cell_type": "code",
   "execution_count": 199,
   "id": "51f26263",
   "metadata": {},
   "outputs": [
    {
     "name": "stdout",
     "output_type": "stream",
     "text": [
      "Number of continuous variables: 3\n"
     ]
    }
   ],
   "source": [
    "continuous_features = [feature for feature in numerical_features if feature not in discrete_features]\n",
    "print(\"Number of continuous variables: {}\".format(len(continuous_features)))"
   ]
  },
  {
   "cell_type": "code",
   "execution_count": 200,
   "id": "3058e742",
   "metadata": {},
   "outputs": [
    {
     "data": {
      "image/png": "[encoded data removed]",
      "text/plain": [
       "<Figure size 432x288 with 1 Axes>"
      ]
     },
     "metadata": {
      "needs_background": "light"
     },
     "output_type": "display_data"
    },
    {
     "data": {
      "image/png": "[encoded data removed]",
      "text/plain": [
       "<Figure size 432x288 with 1 Axes>"
      ]
     },
     "metadata": {
      "needs_background": "light"
     },
     "output_type": "display_data"
    },
    {
     "data": {
      "image/png": "[encoded data removed]",
      "text/plain": [
       "<Figure size 432x288 with 1 Axes>"
      ]
     },
     "metadata": {
      "needs_background": "light"
     },
     "output_type": "display_data"
    }
   ],
   "source": [
    "for feature in continuous_features:\n",
    "    data=new_df.copy()\n",
    "    data['target'].replace({False: 0, True: 1}, inplace=True)\n",
    "    data[feature].hist(bins=25)\n",
    "    plt.xlabel(feature)\n",
    "    plt.ylabel('Count')\n",
    "    plt.title(feature)\n",
    "    plt.show()"
   ]
  },
  {
   "cell_type": "code",
   "execution_count": 201,
   "id": "c84c97ed",
   "metadata": {},
   "outputs": [
    {
     "data": {
      "image/png": "[encoded data removed]",
      "text/plain": [
       "<Figure size 432x288 with 1 Axes>"
      ]
     },
     "metadata": {
      "needs_background": "light"
     },
     "output_type": "display_data"
    },
    {
     "data": {
      "image/png": "[encoded data removed]",
      "text/plain": [
       "<Figure size 432x288 with 1 Axes>"
      ]
     },
     "metadata": {
      "needs_background": "light"
     },
     "output_type": "display_data"
    }
   ],
   "source": [
    "for feature in continuous_features:\n",
    "    data=new_df.copy()\n",
    "    if 0 in data[feature].unique():\n",
    "        pass\n",
    "    elif feature not in ['postal_code']:\n",
    "        data[feature]=np.log(data[feature])\n",
    "        plt.scatter(data[feature],data['target'])\n",
    "        plt.xlabel(feature)\n",
    "        plt.ylabel('target')\n",
    "        plt.title(feature)\n",
    "        plt.show()"
   ]
  },
  {
   "cell_type": "code",
   "execution_count": 202,
   "id": "520880d7",
   "metadata": {},
   "outputs": [
    {
     "data": {
      "image/png": "[encoded data removed]",
      "text/plain": [
       "<Figure size 432x288 with 1 Axes>"
      ]
     },
     "metadata": {
      "needs_background": "light"
     },
     "output_type": "display_data"
    },
    {
     "data": {
      "image/png": "[encoded data removed]",
      "text/plain": [
       "<Figure size 432x288 with 1 Axes>"
      ]
     },
     "metadata": {
      "needs_background": "light"
     },
     "output_type": "display_data"
    }
   ],
   "source": [
    "for feature in continuous_features:\n",
    "    data=new_df.copy()\n",
    "    if 0 in data[feature].unique():\n",
    "        pass\n",
    "    elif feature not in ['postal_code']:\n",
    "        data[feature]=np.log(data[feature])\n",
    "        data.boxplot(column=feature)\n",
    "        plt.ylabel(feature)\n",
    "        plt.title(feature)\n",
    "        plt.show()"
   ]
  },
  {
   "cell_type": "code",
   "execution_count": 203,
   "id": "c9a14143",
   "metadata": {},
   "outputs": [
    {
     "data": {
      "text/plain": [
       "['state', 'product', 'fire_housing_proximity', 'card_type']"
      ]
     },
     "execution_count": 203,
     "metadata": {},
     "output_type": "execute_result"
    }
   ],
   "source": [
    "categorical_features = [feature for feature in new_df.columns if data[feature].dtypes == 'O']\n",
    "categorical_features"
   ]
  },
  {
   "cell_type": "code",
   "execution_count": 204,
   "id": "32e03158",
   "metadata": {},
   "outputs": [
    {
     "data": {
      "text/html": [
       "<div>\n",
       "<style scoped>\n",
       "    .dataframe tbody tr th:only-of-type {\n",
       "        vertical-align: middle;\n",
       "    }\n",
       "\n",
       "    .dataframe tbody tr th {\n",
       "        vertical-align: top;\n",
       "    }\n",
       "\n",
       "    .dataframe thead th {\n",
       "        text-align: right;\n",
       "    }\n",
       "</style>\n",
       "<table border=\"1\" class=\"dataframe\">\n",
       "  <thead>\n",
       "    <tr style=\"text-align: right;\">\n",
       "      <th></th>\n",
       "      <th>state</th>\n",
       "      <th>product</th>\n",
       "      <th>fire_housing_proximity</th>\n",
       "      <th>card_type</th>\n",
       "    </tr>\n",
       "  </thead>\n",
       "  <tbody>\n",
       "    <tr>\n",
       "      <th>0</th>\n",
       "      <td>NM</td>\n",
       "      <td>ho4</td>\n",
       "      <td>5</td>\n",
       "      <td>credit</td>\n",
       "    </tr>\n",
       "    <tr>\n",
       "      <th>1</th>\n",
       "      <td>WI</td>\n",
       "      <td>ho4</td>\n",
       "      <td>1</td>\n",
       "      <td>debit</td>\n",
       "    </tr>\n",
       "    <tr>\n",
       "      <th>2</th>\n",
       "      <td>WI</td>\n",
       "      <td>ho4</td>\n",
       "      <td>1</td>\n",
       "      <td>debit</td>\n",
       "    </tr>\n",
       "    <tr>\n",
       "      <th>3</th>\n",
       "      <td>NM</td>\n",
       "      <td>ho4</td>\n",
       "      <td>1</td>\n",
       "      <td>debit</td>\n",
       "    </tr>\n",
       "    <tr>\n",
       "      <th>4</th>\n",
       "      <td>AR</td>\n",
       "      <td>ho4</td>\n",
       "      <td>1</td>\n",
       "      <td>debit</td>\n",
       "    </tr>\n",
       "  </tbody>\n",
       "</table>\n",
       "</div>"
      ],
      "text/plain": [
       "  state product fire_housing_proximity card_type\n",
       "0    NM     ho4                      5    credit\n",
       "1    WI     ho4                      1     debit\n",
       "2    WI     ho4                      1     debit\n",
       "3    NM     ho4                      1     debit\n",
       "4    AR     ho4                      1     debit"
      ]
     },
     "execution_count": 204,
     "metadata": {},
     "output_type": "execute_result"
    }
   ],
   "source": [
    "new_df[categorical_features].head()"
   ]
  },
  {
   "cell_type": "code",
   "execution_count": 205,
   "id": "7897e12b",
   "metadata": {},
   "outputs": [
    {
     "name": "stdout",
     "output_type": "stream",
     "text": [
      "The feature is state and number of categories are 21\n",
      "The feature is product and number of categories are 3\n",
      "The feature is fire_housing_proximity and number of categories are 15\n",
      "The feature is card_type and number of categories are 4\n"
     ]
    }
   ],
   "source": [
    "for feature in categorical_features:\n",
    "    print('The feature is {} and number of categories are {}'.format(feature, len(new_df[feature].unique())))"
   ]
  },
  {
   "cell_type": "code",
   "execution_count": 206,
   "id": "f901b99f",
   "metadata": {},
   "outputs": [
    {
     "data": {
      "image/png": "[encoded data removed]",
      "text/plain": [
       "<Figure size 432x288 with 1 Axes>"
      ]
     },
     "metadata": {
      "needs_background": "light"
     },
     "output_type": "display_data"
    },
    {
     "data": {
      "image/png": "[encoded data removed]",
      "text/plain": [
       "<Figure size 432x288 with 1 Axes>"
      ]
     },
     "metadata": {
      "needs_background": "light"
     },
     "output_type": "display_data"
    },
    {
     "data": {
      "image/png": "[encoded data removed]",
      "text/plain": [
       "<Figure size 432x288 with 1 Axes>"
      ]
     },
     "metadata": {
      "needs_background": "light"
     },
     "output_type": "display_data"
    },
    {
     "data": {
      "image/png": "[encoded data removed]",
      "text/plain": [
       "<Figure size 432x288 with 1 Axes>"
      ]
     },
     "metadata": {
      "needs_background": "light"
     },
     "output_type": "display_data"
    }
   ],
   "source": [
    "for feature in categorical_features:\n",
    "    data=new_df.copy()\n",
    "    data['target'].replace({False: 0, True: 1}, inplace=True)\n",
    "    data.groupby(feature)['target'].count().plot.bar()\n",
    "    plt.xlabel(feature)\n",
    "    plt.ylabel('target')\n",
    "    plt.title(feature)\n",
    "    plt.show()"
   ]
  },
  {
   "cell_type": "code",
   "execution_count": 207,
   "id": "63dda518",
   "metadata": {},
   "outputs": [],
   "source": [
    "from sklearn.model_selection import train_test_split\n",
    "X_train, X_test, y_train, y_test = train_test_split(new_df, new_df['target'],test_size=0.15,random_state=0)"
   ]
  },
  {
   "cell_type": "code",
   "execution_count": 208,
   "id": "1d8a9935",
   "metadata": {},
   "outputs": [
    {
     "data": {
      "text/plain": [
       "((10537, 14), (1860, 14))"
      ]
     },
     "execution_count": 208,
     "metadata": {},
     "output_type": "execute_result"
    }
   ],
   "source": [
    "X_train.shape, X_test.shape"
   ]
  },
  {
   "cell_type": "code",
   "execution_count": 209,
   "id": "1e791e82",
   "metadata": {},
   "outputs": [
    {
     "name": "stdout",
     "output_type": "stream",
     "text": [
      "card_type: 0.0042% missing values\n"
     ]
    }
   ],
   "source": [
    "features_nan=[feature for feature in new_df.columns if new_df[feature].isnull().sum()>0 and new_df[feature].dtypes=='O']\n",
    "for feature in features_nan:\n",
    "    print(\"{}: {}% missing values\".format(feature, np.round(new_df[feature].isnull().mean(), 4)))"
   ]
  },
  {
   "cell_type": "code",
   "execution_count": 210,
   "id": "2d230f9f",
   "metadata": {},
   "outputs": [
    {
     "data": {
      "text/plain": [
       "card_type    0\n",
       "dtype: int64"
      ]
     },
     "execution_count": 210,
     "metadata": {},
     "output_type": "execute_result"
    }
   ],
   "source": [
    "def replace_cat_feature(dataset, features_nan):\n",
    "    data=dataset.copy()\n",
    "    data[features_nan]=data[features_nan].fillna('Missing')\n",
    "    return data\n",
    "new_df= replace_cat_feature(new_df, features_nan)\n",
    "new_df[features_nan].isnull().sum()"
   ]
  },
  {
   "cell_type": "code",
   "execution_count": 211,
   "id": "0748b42b",
   "metadata": {},
   "outputs": [
    {
     "name": "stdout",
     "output_type": "stream",
     "text": [
      "square_ft: 0.9775% missing values.\n",
      "portable_electronics: 0.0328% missing values.\n",
      "coast: 0.0932% missing values.\n",
      "user_age: 0.0066% missing values.\n"
     ]
    }
   ],
   "source": [
    "numerical_with_nan=[feature for feature in new_df.columns if new_df[feature].isnull().sum()>0 and new_df[feature].dtypes != 'O']\n",
    "for feature in numerical_with_nan:\n",
    "    print(\"{}: {}% missing values.\".format(feature, np.around(new_df[feature].isnull().mean(), 4)))"
   ]
  },
  {
   "cell_type": "code",
   "execution_count": 212,
   "id": "52f6411e",
   "metadata": {},
   "outputs": [],
   "source": [
    "new_df=new_df.drop('square_ft', axis=1)"
   ]
  },
  {
   "cell_type": "code",
   "execution_count": 213,
   "id": "49dc2d05",
   "metadata": {},
   "outputs": [],
   "source": [
    "new_df['user_age'].fillna(new_df['user_age'].median(), inplace=True)"
   ]
  },
  {
   "cell_type": "code",
   "execution_count": 214,
   "id": "1114e6aa",
   "metadata": {},
   "outputs": [],
   "source": [
    "new_df['coast'].fillna(new_df['coast'].median(), inplace=True)"
   ]
  },
  {
   "cell_type": "code",
   "execution_count": 215,
   "id": "5cc76d4e",
   "metadata": {},
   "outputs": [],
   "source": [
    "new_df['portable_electronics'].fillna(new_df['portable_electronics'].mode()[0], inplace=True)"
   ]
  },
  {
   "cell_type": "code",
   "execution_count": 216,
   "id": "a2cc5ec8",
   "metadata": {},
   "outputs": [],
   "source": [
    "new_df['user_age']=np.log(new_df['user_age'])"
   ]
  },
  {
   "cell_type": "code",
   "execution_count": 217,
   "id": "d7878732",
   "metadata": {},
   "outputs": [],
   "source": [
    "new_df['target'].replace({False: 0, True: 1}, inplace=True)\n",
    "for feature in categorical_features:\n",
    "    temp=new_df.groupby(feature)['target'].count()/len(new_df)\n",
    "    temp_df=temp[temp>0.01].index\n",
    "    new_df[feature]=np.where(new_df[feature].isin(temp_df), new_df[feature], 'Rare_var')"
   ]
  },
  {
   "cell_type": "code",
   "execution_count": 218,
   "id": "a5d68c1c",
   "metadata": {},
   "outputs": [
    {
     "data": {
      "text/html": [
       "<div>\n",
       "<style scoped>\n",
       "    .dataframe tbody tr th:only-of-type {\n",
       "        vertical-align: middle;\n",
       "    }\n",
       "\n",
       "    .dataframe tbody tr th {\n",
       "        vertical-align: top;\n",
       "    }\n",
       "\n",
       "    .dataframe thead th {\n",
       "        text-align: right;\n",
       "    }\n",
       "</style>\n",
       "<table border=\"1\" class=\"dataframe\">\n",
       "  <thead>\n",
       "    <tr style=\"text-align: right;\">\n",
       "      <th></th>\n",
       "      <th>state</th>\n",
       "      <th>postal_code</th>\n",
       "      <th>product</th>\n",
       "      <th>high_risk_dog</th>\n",
       "      <th>has_fire_alarm</th>\n",
       "      <th>has_burglar_alarm</th>\n",
       "      <th>portable_electronics</th>\n",
       "      <th>coast</th>\n",
       "      <th>fire_housing_proximity</th>\n",
       "      <th>previous_policies</th>\n",
       "      <th>user_age</th>\n",
       "      <th>card_type</th>\n",
       "      <th>target</th>\n",
       "    </tr>\n",
       "  </thead>\n",
       "  <tbody>\n",
       "    <tr>\n",
       "      <th>0</th>\n",
       "      <td>Rare_var</td>\n",
       "      <td>87043</td>\n",
       "      <td>ho4</td>\n",
       "      <td>0</td>\n",
       "      <td>True</td>\n",
       "      <td>True</td>\n",
       "      <td>0.0</td>\n",
       "      <td>20.0</td>\n",
       "      <td>5</td>\n",
       "      <td>0</td>\n",
       "      <td>3.663562</td>\n",
       "      <td>credit</td>\n",
       "      <td>0</td>\n",
       "    </tr>\n",
       "    <tr>\n",
       "      <th>1</th>\n",
       "      <td>Rare_var</td>\n",
       "      <td>53715</td>\n",
       "      <td>ho4</td>\n",
       "      <td>0</td>\n",
       "      <td>True</td>\n",
       "      <td>False</td>\n",
       "      <td>1.0</td>\n",
       "      <td>30.0</td>\n",
       "      <td>1</td>\n",
       "      <td>0</td>\n",
       "      <td>2.944439</td>\n",
       "      <td>debit</td>\n",
       "      <td>0</td>\n",
       "    </tr>\n",
       "    <tr>\n",
       "      <th>2</th>\n",
       "      <td>Rare_var</td>\n",
       "      <td>53211</td>\n",
       "      <td>ho4</td>\n",
       "      <td>0</td>\n",
       "      <td>True</td>\n",
       "      <td>False</td>\n",
       "      <td>1.0</td>\n",
       "      <td>1.0</td>\n",
       "      <td>1</td>\n",
       "      <td>0</td>\n",
       "      <td>2.995732</td>\n",
       "      <td>debit</td>\n",
       "      <td>1</td>\n",
       "    </tr>\n",
       "    <tr>\n",
       "      <th>3</th>\n",
       "      <td>Rare_var</td>\n",
       "      <td>88012</td>\n",
       "      <td>ho4</td>\n",
       "      <td>0</td>\n",
       "      <td>True</td>\n",
       "      <td>True</td>\n",
       "      <td>1.0</td>\n",
       "      <td>20.0</td>\n",
       "      <td>1</td>\n",
       "      <td>0</td>\n",
       "      <td>3.496508</td>\n",
       "      <td>debit</td>\n",
       "      <td>0</td>\n",
       "    </tr>\n",
       "    <tr>\n",
       "      <th>4</th>\n",
       "      <td>Rare_var</td>\n",
       "      <td>72116</td>\n",
       "      <td>ho4</td>\n",
       "      <td>0</td>\n",
       "      <td>False</td>\n",
       "      <td>False</td>\n",
       "      <td>1.0</td>\n",
       "      <td>20.0</td>\n",
       "      <td>1</td>\n",
       "      <td>0</td>\n",
       "      <td>2.995732</td>\n",
       "      <td>debit</td>\n",
       "      <td>0</td>\n",
       "    </tr>\n",
       "  </tbody>\n",
       "</table>\n",
       "</div>"
      ],
      "text/plain": [
       "      state  postal_code product  high_risk_dog  has_fire_alarm  \\\n",
       "0  Rare_var        87043     ho4              0            True   \n",
       "1  Rare_var        53715     ho4              0            True   \n",
       "2  Rare_var        53211     ho4              0            True   \n",
       "3  Rare_var        88012     ho4              0            True   \n",
       "4  Rare_var        72116     ho4              0           False   \n",
       "\n",
       "   has_burglar_alarm  portable_electronics  coast fire_housing_proximity  \\\n",
       "0               True                   0.0   20.0                      5   \n",
       "1              False                   1.0   30.0                      1   \n",
       "2              False                   1.0    1.0                      1   \n",
       "3               True                   1.0   20.0                      1   \n",
       "4              False                   1.0   20.0                      1   \n",
       "\n",
       "   previous_policies  user_age card_type  target  \n",
       "0                  0  3.663562    credit       0  \n",
       "1                  0  2.944439     debit       0  \n",
       "2                  0  2.995732     debit       1  \n",
       "3                  0  3.496508     debit       0  \n",
       "4                  0  2.995732     debit       0  "
      ]
     },
     "execution_count": 218,
     "metadata": {},
     "output_type": "execute_result"
    }
   ],
   "source": [
    "new_df.head()"
   ]
  },
  {
   "cell_type": "code",
   "execution_count": 219,
   "id": "3f332057",
   "metadata": {},
   "outputs": [
    {
     "data": {
      "text/plain": [
       "debit       7131\n",
       "credit      5029\n",
       "prepaid      185\n",
       "Rare_var      52\n",
       "Name: card_type, dtype: int64"
      ]
     },
     "execution_count": 219,
     "metadata": {},
     "output_type": "execute_result"
    }
   ],
   "source": [
    "new_df['card_type'].value_counts()"
   ]
  },
  {
   "cell_type": "code",
   "execution_count": 220,
   "id": "0e93c05f",
   "metadata": {},
   "outputs": [],
   "source": [
    "new_df['has_fire_alarm'].replace({False: 0, True: 1}, inplace=True)\n",
    "new_df['has_burglar_alarm'].replace({False: 0, True: 1}, inplace=True)"
   ]
  },
  {
   "cell_type": "code",
   "execution_count": 221,
   "id": "b901e09f",
   "metadata": {},
   "outputs": [
    {
     "data": {
      "text/html": [
       "<div>\n",
       "<style scoped>\n",
       "    .dataframe tbody tr th:only-of-type {\n",
       "        vertical-align: middle;\n",
       "    }\n",
       "\n",
       "    .dataframe tbody tr th {\n",
       "        vertical-align: top;\n",
       "    }\n",
       "\n",
       "    .dataframe thead th {\n",
       "        text-align: right;\n",
       "    }\n",
       "</style>\n",
       "<table border=\"1\" class=\"dataframe\">\n",
       "  <thead>\n",
       "    <tr style=\"text-align: right;\">\n",
       "      <th></th>\n",
       "      <th>state</th>\n",
       "      <th>postal_code</th>\n",
       "      <th>product</th>\n",
       "      <th>high_risk_dog</th>\n",
       "      <th>has_fire_alarm</th>\n",
       "      <th>has_burglar_alarm</th>\n",
       "      <th>portable_electronics</th>\n",
       "      <th>coast</th>\n",
       "      <th>fire_housing_proximity</th>\n",
       "      <th>previous_policies</th>\n",
       "      <th>user_age</th>\n",
       "      <th>card_type</th>\n",
       "      <th>target</th>\n",
       "    </tr>\n",
       "  </thead>\n",
       "  <tbody>\n",
       "    <tr>\n",
       "      <th>0</th>\n",
       "      <td>Rare_var</td>\n",
       "      <td>87043</td>\n",
       "      <td>ho4</td>\n",
       "      <td>0</td>\n",
       "      <td>1</td>\n",
       "      <td>1</td>\n",
       "      <td>0.0</td>\n",
       "      <td>20.0</td>\n",
       "      <td>5</td>\n",
       "      <td>0</td>\n",
       "      <td>3.663562</td>\n",
       "      <td>credit</td>\n",
       "      <td>0</td>\n",
       "    </tr>\n",
       "    <tr>\n",
       "      <th>1</th>\n",
       "      <td>Rare_var</td>\n",
       "      <td>53715</td>\n",
       "      <td>ho4</td>\n",
       "      <td>0</td>\n",
       "      <td>1</td>\n",
       "      <td>0</td>\n",
       "      <td>1.0</td>\n",
       "      <td>30.0</td>\n",
       "      <td>1</td>\n",
       "      <td>0</td>\n",
       "      <td>2.944439</td>\n",
       "      <td>debit</td>\n",
       "      <td>0</td>\n",
       "    </tr>\n",
       "    <tr>\n",
       "      <th>2</th>\n",
       "      <td>Rare_var</td>\n",
       "      <td>53211</td>\n",
       "      <td>ho4</td>\n",
       "      <td>0</td>\n",
       "      <td>1</td>\n",
       "      <td>0</td>\n",
       "      <td>1.0</td>\n",
       "      <td>1.0</td>\n",
       "      <td>1</td>\n",
       "      <td>0</td>\n",
       "      <td>2.995732</td>\n",
       "      <td>debit</td>\n",
       "      <td>1</td>\n",
       "    </tr>\n",
       "    <tr>\n",
       "      <th>3</th>\n",
       "      <td>Rare_var</td>\n",
       "      <td>88012</td>\n",
       "      <td>ho4</td>\n",
       "      <td>0</td>\n",
       "      <td>1</td>\n",
       "      <td>1</td>\n",
       "      <td>1.0</td>\n",
       "      <td>20.0</td>\n",
       "      <td>1</td>\n",
       "      <td>0</td>\n",
       "      <td>3.496508</td>\n",
       "      <td>debit</td>\n",
       "      <td>0</td>\n",
       "    </tr>\n",
       "    <tr>\n",
       "      <th>4</th>\n",
       "      <td>Rare_var</td>\n",
       "      <td>72116</td>\n",
       "      <td>ho4</td>\n",
       "      <td>0</td>\n",
       "      <td>0</td>\n",
       "      <td>0</td>\n",
       "      <td>1.0</td>\n",
       "      <td>20.0</td>\n",
       "      <td>1</td>\n",
       "      <td>0</td>\n",
       "      <td>2.995732</td>\n",
       "      <td>debit</td>\n",
       "      <td>0</td>\n",
       "    </tr>\n",
       "  </tbody>\n",
       "</table>\n",
       "</div>"
      ],
      "text/plain": [
       "      state  postal_code product  high_risk_dog  has_fire_alarm  \\\n",
       "0  Rare_var        87043     ho4              0               1   \n",
       "1  Rare_var        53715     ho4              0               1   \n",
       "2  Rare_var        53211     ho4              0               1   \n",
       "3  Rare_var        88012     ho4              0               1   \n",
       "4  Rare_var        72116     ho4              0               0   \n",
       "\n",
       "   has_burglar_alarm  portable_electronics  coast fire_housing_proximity  \\\n",
       "0                  1                   0.0   20.0                      5   \n",
       "1                  0                   1.0   30.0                      1   \n",
       "2                  0                   1.0    1.0                      1   \n",
       "3                  1                   1.0   20.0                      1   \n",
       "4                  0                   1.0   20.0                      1   \n",
       "\n",
       "   previous_policies  user_age card_type  target  \n",
       "0                  0  3.663562    credit       0  \n",
       "1                  0  2.944439     debit       0  \n",
       "2                  0  2.995732     debit       1  \n",
       "3                  0  3.496508     debit       0  \n",
       "4                  0  2.995732     debit       0  "
      ]
     },
     "execution_count": 221,
     "metadata": {},
     "output_type": "execute_result"
    }
   ],
   "source": [
    "new_df.head()"
   ]
  },
  {
   "cell_type": "code",
   "execution_count": 222,
   "id": "09f1721b",
   "metadata": {},
   "outputs": [
    {
     "data": {
      "image/png": "[encoded data removed]",
      "text/plain": [
       "<Figure size 432x288 with 2 Axes>"
      ]
     },
     "metadata": {
      "needs_background": "light"
     },
     "output_type": "display_data"
    }
   ],
   "source": [
    "corrMatrix = new_df.corr()\n",
    "sns.heatmap(corrMatrix, annot=True)\n",
    "plt.show()"
   ]
  },
  {
   "cell_type": "code",
   "execution_count": 223,
   "id": "1eef069a",
   "metadata": {},
   "outputs": [
    {
     "data": {
      "text/html": [
       "<div>\n",
       "<style scoped>\n",
       "    .dataframe tbody tr th:only-of-type {\n",
       "        vertical-align: middle;\n",
       "    }\n",
       "\n",
       "    .dataframe tbody tr th {\n",
       "        vertical-align: top;\n",
       "    }\n",
       "\n",
       "    .dataframe thead th {\n",
       "        text-align: right;\n",
       "    }\n",
       "</style>\n",
       "<table border=\"1\" class=\"dataframe\">\n",
       "  <thead>\n",
       "    <tr style=\"text-align: right;\">\n",
       "      <th></th>\n",
       "      <th>state</th>\n",
       "      <th>product</th>\n",
       "      <th>has_fire_alarm</th>\n",
       "      <th>has_burglar_alarm</th>\n",
       "      <th>portable_electronics</th>\n",
       "      <th>coast</th>\n",
       "      <th>fire_housing_proximity</th>\n",
       "      <th>previous_policies</th>\n",
       "      <th>user_age</th>\n",
       "      <th>card_type</th>\n",
       "      <th>target</th>\n",
       "    </tr>\n",
       "  </thead>\n",
       "  <tbody>\n",
       "    <tr>\n",
       "      <th>0</th>\n",
       "      <td>Rare_var</td>\n",
       "      <td>ho4</td>\n",
       "      <td>1</td>\n",
       "      <td>1</td>\n",
       "      <td>0.0</td>\n",
       "      <td>20.0</td>\n",
       "      <td>5</td>\n",
       "      <td>0</td>\n",
       "      <td>3.663562</td>\n",
       "      <td>credit</td>\n",
       "      <td>0</td>\n",
       "    </tr>\n",
       "    <tr>\n",
       "      <th>1</th>\n",
       "      <td>Rare_var</td>\n",
       "      <td>ho4</td>\n",
       "      <td>1</td>\n",
       "      <td>0</td>\n",
       "      <td>1.0</td>\n",
       "      <td>30.0</td>\n",
       "      <td>1</td>\n",
       "      <td>0</td>\n",
       "      <td>2.944439</td>\n",
       "      <td>debit</td>\n",
       "      <td>0</td>\n",
       "    </tr>\n",
       "    <tr>\n",
       "      <th>2</th>\n",
       "      <td>Rare_var</td>\n",
       "      <td>ho4</td>\n",
       "      <td>1</td>\n",
       "      <td>0</td>\n",
       "      <td>1.0</td>\n",
       "      <td>1.0</td>\n",
       "      <td>1</td>\n",
       "      <td>0</td>\n",
       "      <td>2.995732</td>\n",
       "      <td>debit</td>\n",
       "      <td>1</td>\n",
       "    </tr>\n",
       "    <tr>\n",
       "      <th>3</th>\n",
       "      <td>Rare_var</td>\n",
       "      <td>ho4</td>\n",
       "      <td>1</td>\n",
       "      <td>1</td>\n",
       "      <td>1.0</td>\n",
       "      <td>20.0</td>\n",
       "      <td>1</td>\n",
       "      <td>0</td>\n",
       "      <td>3.496508</td>\n",
       "      <td>debit</td>\n",
       "      <td>0</td>\n",
       "    </tr>\n",
       "    <tr>\n",
       "      <th>4</th>\n",
       "      <td>Rare_var</td>\n",
       "      <td>ho4</td>\n",
       "      <td>0</td>\n",
       "      <td>0</td>\n",
       "      <td>1.0</td>\n",
       "      <td>20.0</td>\n",
       "      <td>1</td>\n",
       "      <td>0</td>\n",
       "      <td>2.995732</td>\n",
       "      <td>debit</td>\n",
       "      <td>0</td>\n",
       "    </tr>\n",
       "    <tr>\n",
       "      <th>...</th>\n",
       "      <td>...</td>\n",
       "      <td>...</td>\n",
       "      <td>...</td>\n",
       "      <td>...</td>\n",
       "      <td>...</td>\n",
       "      <td>...</td>\n",
       "      <td>...</td>\n",
       "      <td>...</td>\n",
       "      <td>...</td>\n",
       "      <td>...</td>\n",
       "      <td>...</td>\n",
       "    </tr>\n",
       "    <tr>\n",
       "      <th>12392</th>\n",
       "      <td>TX</td>\n",
       "      <td>ho4</td>\n",
       "      <td>0</td>\n",
       "      <td>0</td>\n",
       "      <td>0.0</td>\n",
       "      <td>30.0</td>\n",
       "      <td>1</td>\n",
       "      <td>1</td>\n",
       "      <td>3.951244</td>\n",
       "      <td>debit</td>\n",
       "      <td>0</td>\n",
       "    </tr>\n",
       "    <tr>\n",
       "      <th>12393</th>\n",
       "      <td>TX</td>\n",
       "      <td>ho4</td>\n",
       "      <td>1</td>\n",
       "      <td>1</td>\n",
       "      <td>1.0</td>\n",
       "      <td>30.0</td>\n",
       "      <td>2</td>\n",
       "      <td>0</td>\n",
       "      <td>3.828641</td>\n",
       "      <td>debit</td>\n",
       "      <td>1</td>\n",
       "    </tr>\n",
       "    <tr>\n",
       "      <th>12394</th>\n",
       "      <td>TX</td>\n",
       "      <td>ho4</td>\n",
       "      <td>0</td>\n",
       "      <td>1</td>\n",
       "      <td>1.0</td>\n",
       "      <td>20.0</td>\n",
       "      <td>1</td>\n",
       "      <td>0</td>\n",
       "      <td>3.178054</td>\n",
       "      <td>credit</td>\n",
       "      <td>0</td>\n",
       "    </tr>\n",
       "    <tr>\n",
       "      <th>12395</th>\n",
       "      <td>TX</td>\n",
       "      <td>ho4</td>\n",
       "      <td>1</td>\n",
       "      <td>0</td>\n",
       "      <td>1.0</td>\n",
       "      <td>30.0</td>\n",
       "      <td>1</td>\n",
       "      <td>0</td>\n",
       "      <td>3.583519</td>\n",
       "      <td>debit</td>\n",
       "      <td>0</td>\n",
       "    </tr>\n",
       "    <tr>\n",
       "      <th>12396</th>\n",
       "      <td>TX</td>\n",
       "      <td>ho4</td>\n",
       "      <td>1</td>\n",
       "      <td>0</td>\n",
       "      <td>1.0</td>\n",
       "      <td>30.0</td>\n",
       "      <td>1</td>\n",
       "      <td>0</td>\n",
       "      <td>3.332205</td>\n",
       "      <td>credit</td>\n",
       "      <td>0</td>\n",
       "    </tr>\n",
       "  </tbody>\n",
       "</table>\n",
       "<p>12397 rows × 11 columns</p>\n",
       "</div>"
      ],
      "text/plain": [
       "          state product  has_fire_alarm  has_burglar_alarm  \\\n",
       "0      Rare_var     ho4               1                  1   \n",
       "1      Rare_var     ho4               1                  0   \n",
       "2      Rare_var     ho4               1                  0   \n",
       "3      Rare_var     ho4               1                  1   \n",
       "4      Rare_var     ho4               0                  0   \n",
       "...         ...     ...             ...                ...   \n",
       "12392        TX     ho4               0                  0   \n",
       "12393        TX     ho4               1                  1   \n",
       "12394        TX     ho4               0                  1   \n",
       "12395        TX     ho4               1                  0   \n",
       "12396        TX     ho4               1                  0   \n",
       "\n",
       "       portable_electronics  coast fire_housing_proximity  previous_policies  \\\n",
       "0                       0.0   20.0                      5                  0   \n",
       "1                       1.0   30.0                      1                  0   \n",
       "2                       1.0    1.0                      1                  0   \n",
       "3                       1.0   20.0                      1                  0   \n",
       "4                       1.0   20.0                      1                  0   \n",
       "...                     ...    ...                    ...                ...   \n",
       "12392                   0.0   30.0                      1                  1   \n",
       "12393                   1.0   30.0                      2                  0   \n",
       "12394                   1.0   20.0                      1                  0   \n",
       "12395                   1.0   30.0                      1                  0   \n",
       "12396                   1.0   30.0                      1                  0   \n",
       "\n",
       "       user_age card_type  target  \n",
       "0      3.663562    credit       0  \n",
       "1      2.944439     debit       0  \n",
       "2      2.995732     debit       1  \n",
       "3      3.496508     debit       0  \n",
       "4      2.995732     debit       0  \n",
       "...         ...       ...     ...  \n",
       "12392  3.951244     debit       0  \n",
       "12393  3.828641     debit       1  \n",
       "12394  3.178054    credit       0  \n",
       "12395  3.583519     debit       0  \n",
       "12396  3.332205    credit       0  \n",
       "\n",
       "[12397 rows x 11 columns]"
      ]
     },
     "execution_count": 223,
     "metadata": {},
     "output_type": "execute_result"
    }
   ],
   "source": [
    "new_df.drop(['postal_code', 'high_risk_dog'], axis=1)"
   ]
  },
  {
   "cell_type": "code",
   "execution_count": 224,
   "id": "ca1c56bc",
   "metadata": {},
   "outputs": [],
   "source": [
    "\n",
    "from sklearn.preprocessing import OneHotEncoder\n",
    "\n",
    "new_df['product']=new_df['product'].astype('category')\n",
    "new_df['card_type']=new_df['card_type'].astype('category')\n",
    " \n",
    " \n",
    "new_df['product_new']=new_df['product'].cat.codes\n",
    "new_df['card_type_new']=new_df['card_type'].cat.codes\n",
    " \n",
    " \n",
    "enc = OneHotEncoder()\n",
    " \n",
    "enc_data=pd.DataFrame(enc.fit_transform(new_df[['product_new','card_type_new']]).toarray())\n",
    " \n",
    "#Merge with main\n",
    "new_df=new_df.join(enc_data)"
   ]
  },
  {
   "cell_type": "code",
   "execution_count": 225,
   "id": "5f57f1f0",
   "metadata": {},
   "outputs": [
    {
     "data": {
      "text/html": [
       "<div>\n",
       "<style scoped>\n",
       "    .dataframe tbody tr th:only-of-type {\n",
       "        vertical-align: middle;\n",
       "    }\n",
       "\n",
       "    .dataframe tbody tr th {\n",
       "        vertical-align: top;\n",
       "    }\n",
       "\n",
       "    .dataframe thead th {\n",
       "        text-align: right;\n",
       "    }\n",
       "</style>\n",
       "<table border=\"1\" class=\"dataframe\">\n",
       "  <thead>\n",
       "    <tr style=\"text-align: right;\">\n",
       "      <th></th>\n",
       "      <th>state</th>\n",
       "      <th>postal_code</th>\n",
       "      <th>product</th>\n",
       "      <th>high_risk_dog</th>\n",
       "      <th>has_fire_alarm</th>\n",
       "      <th>has_burglar_alarm</th>\n",
       "      <th>portable_electronics</th>\n",
       "      <th>coast</th>\n",
       "      <th>fire_housing_proximity</th>\n",
       "      <th>previous_policies</th>\n",
       "      <th>...</th>\n",
       "      <th>target</th>\n",
       "      <th>product_new</th>\n",
       "      <th>card_type_new</th>\n",
       "      <th>0</th>\n",
       "      <th>1</th>\n",
       "      <th>2</th>\n",
       "      <th>3</th>\n",
       "      <th>4</th>\n",
       "      <th>5</th>\n",
       "      <th>6</th>\n",
       "    </tr>\n",
       "  </thead>\n",
       "  <tbody>\n",
       "    <tr>\n",
       "      <th>0</th>\n",
       "      <td>Rare_var</td>\n",
       "      <td>87043</td>\n",
       "      <td>ho4</td>\n",
       "      <td>0</td>\n",
       "      <td>1</td>\n",
       "      <td>1</td>\n",
       "      <td>0.0</td>\n",
       "      <td>20.0</td>\n",
       "      <td>5</td>\n",
       "      <td>0</td>\n",
       "      <td>...</td>\n",
       "      <td>0</td>\n",
       "      <td>1</td>\n",
       "      <td>1</td>\n",
       "      <td>0.0</td>\n",
       "      <td>1.0</td>\n",
       "      <td>0.0</td>\n",
       "      <td>0.0</td>\n",
       "      <td>1.0</td>\n",
       "      <td>0.0</td>\n",
       "      <td>0.0</td>\n",
       "    </tr>\n",
       "    <tr>\n",
       "      <th>1</th>\n",
       "      <td>Rare_var</td>\n",
       "      <td>53715</td>\n",
       "      <td>ho4</td>\n",
       "      <td>0</td>\n",
       "      <td>1</td>\n",
       "      <td>0</td>\n",
       "      <td>1.0</td>\n",
       "      <td>30.0</td>\n",
       "      <td>1</td>\n",
       "      <td>0</td>\n",
       "      <td>...</td>\n",
       "      <td>0</td>\n",
       "      <td>1</td>\n",
       "      <td>2</td>\n",
       "      <td>0.0</td>\n",
       "      <td>1.0</td>\n",
       "      <td>0.0</td>\n",
       "      <td>0.0</td>\n",
       "      <td>0.0</td>\n",
       "      <td>1.0</td>\n",
       "      <td>0.0</td>\n",
       "    </tr>\n",
       "    <tr>\n",
       "      <th>2</th>\n",
       "      <td>Rare_var</td>\n",
       "      <td>53211</td>\n",
       "      <td>ho4</td>\n",
       "      <td>0</td>\n",
       "      <td>1</td>\n",
       "      <td>0</td>\n",
       "      <td>1.0</td>\n",
       "      <td>1.0</td>\n",
       "      <td>1</td>\n",
       "      <td>0</td>\n",
       "      <td>...</td>\n",
       "      <td>1</td>\n",
       "      <td>1</td>\n",
       "      <td>2</td>\n",
       "      <td>0.0</td>\n",
       "      <td>1.0</td>\n",
       "      <td>0.0</td>\n",
       "      <td>0.0</td>\n",
       "      <td>0.0</td>\n",
       "      <td>1.0</td>\n",
       "      <td>0.0</td>\n",
       "    </tr>\n",
       "    <tr>\n",
       "      <th>3</th>\n",
       "      <td>Rare_var</td>\n",
       "      <td>88012</td>\n",
       "      <td>ho4</td>\n",
       "      <td>0</td>\n",
       "      <td>1</td>\n",
       "      <td>1</td>\n",
       "      <td>1.0</td>\n",
       "      <td>20.0</td>\n",
       "      <td>1</td>\n",
       "      <td>0</td>\n",
       "      <td>...</td>\n",
       "      <td>0</td>\n",
       "      <td>1</td>\n",
       "      <td>2</td>\n",
       "      <td>0.0</td>\n",
       "      <td>1.0</td>\n",
       "      <td>0.0</td>\n",
       "      <td>0.0</td>\n",
       "      <td>0.0</td>\n",
       "      <td>1.0</td>\n",
       "      <td>0.0</td>\n",
       "    </tr>\n",
       "    <tr>\n",
       "      <th>4</th>\n",
       "      <td>Rare_var</td>\n",
       "      <td>72116</td>\n",
       "      <td>ho4</td>\n",
       "      <td>0</td>\n",
       "      <td>0</td>\n",
       "      <td>0</td>\n",
       "      <td>1.0</td>\n",
       "      <td>20.0</td>\n",
       "      <td>1</td>\n",
       "      <td>0</td>\n",
       "      <td>...</td>\n",
       "      <td>0</td>\n",
       "      <td>1</td>\n",
       "      <td>2</td>\n",
       "      <td>0.0</td>\n",
       "      <td>1.0</td>\n",
       "      <td>0.0</td>\n",
       "      <td>0.0</td>\n",
       "      <td>0.0</td>\n",
       "      <td>1.0</td>\n",
       "      <td>0.0</td>\n",
       "    </tr>\n",
       "  </tbody>\n",
       "</table>\n",
       "<p>5 rows × 22 columns</p>\n",
       "</div>"
      ],
      "text/plain": [
       "      state  postal_code product  high_risk_dog  has_fire_alarm  \\\n",
       "0  Rare_var        87043     ho4              0               1   \n",
       "1  Rare_var        53715     ho4              0               1   \n",
       "2  Rare_var        53211     ho4              0               1   \n",
       "3  Rare_var        88012     ho4              0               1   \n",
       "4  Rare_var        72116     ho4              0               0   \n",
       "\n",
       "   has_burglar_alarm  portable_electronics  coast fire_housing_proximity  \\\n",
       "0                  1                   0.0   20.0                      5   \n",
       "1                  0                   1.0   30.0                      1   \n",
       "2                  0                   1.0    1.0                      1   \n",
       "3                  1                   1.0   20.0                      1   \n",
       "4                  0                   1.0   20.0                      1   \n",
       "\n",
       "   previous_policies  ...  target product_new  card_type_new    0    1    2  \\\n",
       "0                  0  ...       0           1              1  0.0  1.0  0.0   \n",
       "1                  0  ...       0           1              2  0.0  1.0  0.0   \n",
       "2                  0  ...       1           1              2  0.0  1.0  0.0   \n",
       "3                  0  ...       0           1              2  0.0  1.0  0.0   \n",
       "4                  0  ...       0           1              2  0.0  1.0  0.0   \n",
       "\n",
       "     3    4    5    6  \n",
       "0  0.0  1.0  0.0  0.0  \n",
       "1  0.0  0.0  1.0  0.0  \n",
       "2  0.0  0.0  1.0  0.0  \n",
       "3  0.0  0.0  1.0  0.0  \n",
       "4  0.0  0.0  1.0  0.0  \n",
       "\n",
       "[5 rows x 22 columns]"
      ]
     },
     "execution_count": 225,
     "metadata": {},
     "output_type": "execute_result"
    }
   ],
   "source": [
    "new_df.head()"
   ]
  },
  {
   "cell_type": "code",
   "execution_count": 226,
   "id": "1bcc3d60",
   "metadata": {},
   "outputs": [
    {
     "data": {
      "text/plain": [
       "Index([                 'state',            'postal_code',\n",
       "                      'product',          'high_risk_dog',\n",
       "               'has_fire_alarm',      'has_burglar_alarm',\n",
       "         'portable_electronics',                  'coast',\n",
       "       'fire_housing_proximity',      'previous_policies',\n",
       "                     'user_age',              'card_type',\n",
       "                       'target',            'product_new',\n",
       "                'card_type_new',                        0,\n",
       "                              1,                        2,\n",
       "                              3,                        4,\n",
       "                              5,                        6],\n",
       "      dtype='object')"
      ]
     },
     "execution_count": 226,
     "metadata": {},
     "output_type": "execute_result"
    }
   ],
   "source": [
    "new_df.columns"
   ]
  },
  {
   "cell_type": "code",
   "execution_count": null,
   "id": "930069cd",
   "metadata": {},
   "outputs": [],
   "source": []
  },
  {
   "cell_type": "code",
   "execution_count": 228,
   "id": "888d38c5",
   "metadata": {},
   "outputs": [
    {
     "data": {
      "text/html": [
       "<div>\n",
       "<style scoped>\n",
       "    .dataframe tbody tr th:only-of-type {\n",
       "        vertical-align: middle;\n",
       "    }\n",
       "\n",
       "    .dataframe tbody tr th {\n",
       "        vertical-align: top;\n",
       "    }\n",
       "\n",
       "    .dataframe thead th {\n",
       "        text-align: right;\n",
       "    }\n",
       "</style>\n",
       "<table border=\"1\" class=\"dataframe\">\n",
       "  <thead>\n",
       "    <tr style=\"text-align: right;\">\n",
       "      <th></th>\n",
       "      <th>state</th>\n",
       "      <th>postal_code</th>\n",
       "      <th>product</th>\n",
       "      <th>high_risk_dog</th>\n",
       "      <th>has_fire_alarm</th>\n",
       "      <th>has_burglar_alarm</th>\n",
       "      <th>portable_electronics</th>\n",
       "      <th>coast</th>\n",
       "      <th>fire_housing_proximity</th>\n",
       "      <th>previous_policies</th>\n",
       "      <th>...</th>\n",
       "      <th>target</th>\n",
       "      <th>product_new</th>\n",
       "      <th>card_type_new</th>\n",
       "      <th>0</th>\n",
       "      <th>1</th>\n",
       "      <th>2</th>\n",
       "      <th>3</th>\n",
       "      <th>4</th>\n",
       "      <th>5</th>\n",
       "      <th>6</th>\n",
       "    </tr>\n",
       "  </thead>\n",
       "  <tbody>\n",
       "    <tr>\n",
       "      <th>0</th>\n",
       "      <td>Rare_var</td>\n",
       "      <td>87043</td>\n",
       "      <td>ho4</td>\n",
       "      <td>0</td>\n",
       "      <td>1</td>\n",
       "      <td>1</td>\n",
       "      <td>0.0</td>\n",
       "      <td>20.0</td>\n",
       "      <td>5</td>\n",
       "      <td>0</td>\n",
       "      <td>...</td>\n",
       "      <td>0</td>\n",
       "      <td>1</td>\n",
       "      <td>1</td>\n",
       "      <td>0.0</td>\n",
       "      <td>1.0</td>\n",
       "      <td>0.0</td>\n",
       "      <td>0.0</td>\n",
       "      <td>1.0</td>\n",
       "      <td>0.0</td>\n",
       "      <td>0.0</td>\n",
       "    </tr>\n",
       "    <tr>\n",
       "      <th>1</th>\n",
       "      <td>Rare_var</td>\n",
       "      <td>53715</td>\n",
       "      <td>ho4</td>\n",
       "      <td>0</td>\n",
       "      <td>1</td>\n",
       "      <td>0</td>\n",
       "      <td>1.0</td>\n",
       "      <td>30.0</td>\n",
       "      <td>1</td>\n",
       "      <td>0</td>\n",
       "      <td>...</td>\n",
       "      <td>0</td>\n",
       "      <td>1</td>\n",
       "      <td>2</td>\n",
       "      <td>0.0</td>\n",
       "      <td>1.0</td>\n",
       "      <td>0.0</td>\n",
       "      <td>0.0</td>\n",
       "      <td>0.0</td>\n",
       "      <td>1.0</td>\n",
       "      <td>0.0</td>\n",
       "    </tr>\n",
       "    <tr>\n",
       "      <th>2</th>\n",
       "      <td>Rare_var</td>\n",
       "      <td>53211</td>\n",
       "      <td>ho4</td>\n",
       "      <td>0</td>\n",
       "      <td>1</td>\n",
       "      <td>0</td>\n",
       "      <td>1.0</td>\n",
       "      <td>1.0</td>\n",
       "      <td>1</td>\n",
       "      <td>0</td>\n",
       "      <td>...</td>\n",
       "      <td>1</td>\n",
       "      <td>1</td>\n",
       "      <td>2</td>\n",
       "      <td>0.0</td>\n",
       "      <td>1.0</td>\n",
       "      <td>0.0</td>\n",
       "      <td>0.0</td>\n",
       "      <td>0.0</td>\n",
       "      <td>1.0</td>\n",
       "      <td>0.0</td>\n",
       "    </tr>\n",
       "    <tr>\n",
       "      <th>3</th>\n",
       "      <td>Rare_var</td>\n",
       "      <td>88012</td>\n",
       "      <td>ho4</td>\n",
       "      <td>0</td>\n",
       "      <td>1</td>\n",
       "      <td>1</td>\n",
       "      <td>1.0</td>\n",
       "      <td>20.0</td>\n",
       "      <td>1</td>\n",
       "      <td>0</td>\n",
       "      <td>...</td>\n",
       "      <td>0</td>\n",
       "      <td>1</td>\n",
       "      <td>2</td>\n",
       "      <td>0.0</td>\n",
       "      <td>1.0</td>\n",
       "      <td>0.0</td>\n",
       "      <td>0.0</td>\n",
       "      <td>0.0</td>\n",
       "      <td>1.0</td>\n",
       "      <td>0.0</td>\n",
       "    </tr>\n",
       "    <tr>\n",
       "      <th>4</th>\n",
       "      <td>Rare_var</td>\n",
       "      <td>72116</td>\n",
       "      <td>ho4</td>\n",
       "      <td>0</td>\n",
       "      <td>0</td>\n",
       "      <td>0</td>\n",
       "      <td>1.0</td>\n",
       "      <td>20.0</td>\n",
       "      <td>1</td>\n",
       "      <td>0</td>\n",
       "      <td>...</td>\n",
       "      <td>0</td>\n",
       "      <td>1</td>\n",
       "      <td>2</td>\n",
       "      <td>0.0</td>\n",
       "      <td>1.0</td>\n",
       "      <td>0.0</td>\n",
       "      <td>0.0</td>\n",
       "      <td>0.0</td>\n",
       "      <td>1.0</td>\n",
       "      <td>0.0</td>\n",
       "    </tr>\n",
       "  </tbody>\n",
       "</table>\n",
       "<p>5 rows × 22 columns</p>\n",
       "</div>"
      ],
      "text/plain": [
       "      state  postal_code product  high_risk_dog  has_fire_alarm  \\\n",
       "0  Rare_var        87043     ho4              0               1   \n",
       "1  Rare_var        53715     ho4              0               1   \n",
       "2  Rare_var        53211     ho4              0               1   \n",
       "3  Rare_var        88012     ho4              0               1   \n",
       "4  Rare_var        72116     ho4              0               0   \n",
       "\n",
       "   has_burglar_alarm  portable_electronics  coast fire_housing_proximity  \\\n",
       "0                  1                   0.0   20.0                      5   \n",
       "1                  0                   1.0   30.0                      1   \n",
       "2                  0                   1.0    1.0                      1   \n",
       "3                  1                   1.0   20.0                      1   \n",
       "4                  0                   1.0   20.0                      1   \n",
       "\n",
       "   previous_policies  ...  target product_new  card_type_new    0    1    2  \\\n",
       "0                  0  ...       0           1              1  0.0  1.0  0.0   \n",
       "1                  0  ...       0           1              2  0.0  1.0  0.0   \n",
       "2                  0  ...       1           1              2  0.0  1.0  0.0   \n",
       "3                  0  ...       0           1              2  0.0  1.0  0.0   \n",
       "4                  0  ...       0           1              2  0.0  1.0  0.0   \n",
       "\n",
       "     3    4    5    6  \n",
       "0  0.0  1.0  0.0  0.0  \n",
       "1  0.0  0.0  1.0  0.0  \n",
       "2  0.0  0.0  1.0  0.0  \n",
       "3  0.0  0.0  1.0  0.0  \n",
       "4  0.0  0.0  1.0  0.0  \n",
       "\n",
       "[5 rows x 22 columns]"
      ]
     },
     "execution_count": 228,
     "metadata": {},
     "output_type": "execute_result"
    }
   ],
   "source": [
    "new_df.head()"
   ]
  },
  {
   "cell_type": "code",
   "execution_count": 229,
   "id": "284b0572",
   "metadata": {},
   "outputs": [
    {
     "data": {
      "text/plain": [
       "2    7131\n",
       "1    5029\n",
       "3     185\n",
       "0      52\n",
       "Name: card_type_new, dtype: int64"
      ]
     },
     "execution_count": 229,
     "metadata": {},
     "output_type": "execute_result"
    }
   ],
   "source": [
    "new_df['card_type_new'].value_counts()"
   ]
  },
  {
   "cell_type": "code",
   "execution_count": 230,
   "id": "0d4bd167",
   "metadata": {},
   "outputs": [],
   "source": [
    "new_df=new_df.drop([0, 1, 2, 3, 4, 5, 6], axis=1)"
   ]
  },
  {
   "cell_type": "code",
   "execution_count": 231,
   "id": "18d6c73c",
   "metadata": {},
   "outputs": [
    {
     "data": {
      "text/html": [
       "<div>\n",
       "<style scoped>\n",
       "    .dataframe tbody tr th:only-of-type {\n",
       "        vertical-align: middle;\n",
       "    }\n",
       "\n",
       "    .dataframe tbody tr th {\n",
       "        vertical-align: top;\n",
       "    }\n",
       "\n",
       "    .dataframe thead th {\n",
       "        text-align: right;\n",
       "    }\n",
       "</style>\n",
       "<table border=\"1\" class=\"dataframe\">\n",
       "  <thead>\n",
       "    <tr style=\"text-align: right;\">\n",
       "      <th></th>\n",
       "      <th>state</th>\n",
       "      <th>postal_code</th>\n",
       "      <th>product</th>\n",
       "      <th>high_risk_dog</th>\n",
       "      <th>has_fire_alarm</th>\n",
       "      <th>has_burglar_alarm</th>\n",
       "      <th>portable_electronics</th>\n",
       "      <th>coast</th>\n",
       "      <th>fire_housing_proximity</th>\n",
       "      <th>previous_policies</th>\n",
       "      <th>user_age</th>\n",
       "      <th>card_type</th>\n",
       "      <th>target</th>\n",
       "      <th>product_new</th>\n",
       "      <th>card_type_new</th>\n",
       "    </tr>\n",
       "  </thead>\n",
       "  <tbody>\n",
       "    <tr>\n",
       "      <th>0</th>\n",
       "      <td>Rare_var</td>\n",
       "      <td>87043</td>\n",
       "      <td>ho4</td>\n",
       "      <td>0</td>\n",
       "      <td>1</td>\n",
       "      <td>1</td>\n",
       "      <td>0.0</td>\n",
       "      <td>20.0</td>\n",
       "      <td>5</td>\n",
       "      <td>0</td>\n",
       "      <td>3.663562</td>\n",
       "      <td>credit</td>\n",
       "      <td>0</td>\n",
       "      <td>1</td>\n",
       "      <td>1</td>\n",
       "    </tr>\n",
       "    <tr>\n",
       "      <th>1</th>\n",
       "      <td>Rare_var</td>\n",
       "      <td>53715</td>\n",
       "      <td>ho4</td>\n",
       "      <td>0</td>\n",
       "      <td>1</td>\n",
       "      <td>0</td>\n",
       "      <td>1.0</td>\n",
       "      <td>30.0</td>\n",
       "      <td>1</td>\n",
       "      <td>0</td>\n",
       "      <td>2.944439</td>\n",
       "      <td>debit</td>\n",
       "      <td>0</td>\n",
       "      <td>1</td>\n",
       "      <td>2</td>\n",
       "    </tr>\n",
       "    <tr>\n",
       "      <th>2</th>\n",
       "      <td>Rare_var</td>\n",
       "      <td>53211</td>\n",
       "      <td>ho4</td>\n",
       "      <td>0</td>\n",
       "      <td>1</td>\n",
       "      <td>0</td>\n",
       "      <td>1.0</td>\n",
       "      <td>1.0</td>\n",
       "      <td>1</td>\n",
       "      <td>0</td>\n",
       "      <td>2.995732</td>\n",
       "      <td>debit</td>\n",
       "      <td>1</td>\n",
       "      <td>1</td>\n",
       "      <td>2</td>\n",
       "    </tr>\n",
       "    <tr>\n",
       "      <th>3</th>\n",
       "      <td>Rare_var</td>\n",
       "      <td>88012</td>\n",
       "      <td>ho4</td>\n",
       "      <td>0</td>\n",
       "      <td>1</td>\n",
       "      <td>1</td>\n",
       "      <td>1.0</td>\n",
       "      <td>20.0</td>\n",
       "      <td>1</td>\n",
       "      <td>0</td>\n",
       "      <td>3.496508</td>\n",
       "      <td>debit</td>\n",
       "      <td>0</td>\n",
       "      <td>1</td>\n",
       "      <td>2</td>\n",
       "    </tr>\n",
       "    <tr>\n",
       "      <th>4</th>\n",
       "      <td>Rare_var</td>\n",
       "      <td>72116</td>\n",
       "      <td>ho4</td>\n",
       "      <td>0</td>\n",
       "      <td>0</td>\n",
       "      <td>0</td>\n",
       "      <td>1.0</td>\n",
       "      <td>20.0</td>\n",
       "      <td>1</td>\n",
       "      <td>0</td>\n",
       "      <td>2.995732</td>\n",
       "      <td>debit</td>\n",
       "      <td>0</td>\n",
       "      <td>1</td>\n",
       "      <td>2</td>\n",
       "    </tr>\n",
       "  </tbody>\n",
       "</table>\n",
       "</div>"
      ],
      "text/plain": [
       "      state  postal_code product  high_risk_dog  has_fire_alarm  \\\n",
       "0  Rare_var        87043     ho4              0               1   \n",
       "1  Rare_var        53715     ho4              0               1   \n",
       "2  Rare_var        53211     ho4              0               1   \n",
       "3  Rare_var        88012     ho4              0               1   \n",
       "4  Rare_var        72116     ho4              0               0   \n",
       "\n",
       "   has_burglar_alarm  portable_electronics  coast fire_housing_proximity  \\\n",
       "0                  1                   0.0   20.0                      5   \n",
       "1                  0                   1.0   30.0                      1   \n",
       "2                  0                   1.0    1.0                      1   \n",
       "3                  1                   1.0   20.0                      1   \n",
       "4                  0                   1.0   20.0                      1   \n",
       "\n",
       "   previous_policies  user_age card_type  target  product_new  card_type_new  \n",
       "0                  0  3.663562    credit       0            1              1  \n",
       "1                  0  2.944439     debit       0            1              2  \n",
       "2                  0  2.995732     debit       1            1              2  \n",
       "3                  0  3.496508     debit       0            1              2  \n",
       "4                  0  2.995732     debit       0            1              2  "
      ]
     },
     "execution_count": 231,
     "metadata": {},
     "output_type": "execute_result"
    }
   ],
   "source": [
    "new_df.head()"
   ]
  },
  {
   "cell_type": "code",
   "execution_count": 232,
   "id": "36c29856",
   "metadata": {},
   "outputs": [],
   "source": [
    "new_df=new_df.drop(['product', 'card_type'], axis=1)"
   ]
  },
  {
   "cell_type": "code",
   "execution_count": 233,
   "id": "0017ed36",
   "metadata": {},
   "outputs": [
    {
     "data": {
      "text/html": [
       "<div>\n",
       "<style scoped>\n",
       "    .dataframe tbody tr th:only-of-type {\n",
       "        vertical-align: middle;\n",
       "    }\n",
       "\n",
       "    .dataframe tbody tr th {\n",
       "        vertical-align: top;\n",
       "    }\n",
       "\n",
       "    .dataframe thead th {\n",
       "        text-align: right;\n",
       "    }\n",
       "</style>\n",
       "<table border=\"1\" class=\"dataframe\">\n",
       "  <thead>\n",
       "    <tr style=\"text-align: right;\">\n",
       "      <th></th>\n",
       "      <th>state</th>\n",
       "      <th>postal_code</th>\n",
       "      <th>high_risk_dog</th>\n",
       "      <th>has_fire_alarm</th>\n",
       "      <th>has_burglar_alarm</th>\n",
       "      <th>portable_electronics</th>\n",
       "      <th>coast</th>\n",
       "      <th>fire_housing_proximity</th>\n",
       "      <th>previous_policies</th>\n",
       "      <th>user_age</th>\n",
       "      <th>target</th>\n",
       "      <th>product_new</th>\n",
       "      <th>card_type_new</th>\n",
       "    </tr>\n",
       "  </thead>\n",
       "  <tbody>\n",
       "    <tr>\n",
       "      <th>0</th>\n",
       "      <td>Rare_var</td>\n",
       "      <td>87043</td>\n",
       "      <td>0</td>\n",
       "      <td>1</td>\n",
       "      <td>1</td>\n",
       "      <td>0.0</td>\n",
       "      <td>20.0</td>\n",
       "      <td>5</td>\n",
       "      <td>0</td>\n",
       "      <td>3.663562</td>\n",
       "      <td>0</td>\n",
       "      <td>1</td>\n",
       "      <td>1</td>\n",
       "    </tr>\n",
       "    <tr>\n",
       "      <th>1</th>\n",
       "      <td>Rare_var</td>\n",
       "      <td>53715</td>\n",
       "      <td>0</td>\n",
       "      <td>1</td>\n",
       "      <td>0</td>\n",
       "      <td>1.0</td>\n",
       "      <td>30.0</td>\n",
       "      <td>1</td>\n",
       "      <td>0</td>\n",
       "      <td>2.944439</td>\n",
       "      <td>0</td>\n",
       "      <td>1</td>\n",
       "      <td>2</td>\n",
       "    </tr>\n",
       "    <tr>\n",
       "      <th>2</th>\n",
       "      <td>Rare_var</td>\n",
       "      <td>53211</td>\n",
       "      <td>0</td>\n",
       "      <td>1</td>\n",
       "      <td>0</td>\n",
       "      <td>1.0</td>\n",
       "      <td>1.0</td>\n",
       "      <td>1</td>\n",
       "      <td>0</td>\n",
       "      <td>2.995732</td>\n",
       "      <td>1</td>\n",
       "      <td>1</td>\n",
       "      <td>2</td>\n",
       "    </tr>\n",
       "    <tr>\n",
       "      <th>3</th>\n",
       "      <td>Rare_var</td>\n",
       "      <td>88012</td>\n",
       "      <td>0</td>\n",
       "      <td>1</td>\n",
       "      <td>1</td>\n",
       "      <td>1.0</td>\n",
       "      <td>20.0</td>\n",
       "      <td>1</td>\n",
       "      <td>0</td>\n",
       "      <td>3.496508</td>\n",
       "      <td>0</td>\n",
       "      <td>1</td>\n",
       "      <td>2</td>\n",
       "    </tr>\n",
       "    <tr>\n",
       "      <th>4</th>\n",
       "      <td>Rare_var</td>\n",
       "      <td>72116</td>\n",
       "      <td>0</td>\n",
       "      <td>0</td>\n",
       "      <td>0</td>\n",
       "      <td>1.0</td>\n",
       "      <td>20.0</td>\n",
       "      <td>1</td>\n",
       "      <td>0</td>\n",
       "      <td>2.995732</td>\n",
       "      <td>0</td>\n",
       "      <td>1</td>\n",
       "      <td>2</td>\n",
       "    </tr>\n",
       "  </tbody>\n",
       "</table>\n",
       "</div>"
      ],
      "text/plain": [
       "      state  postal_code  high_risk_dog  has_fire_alarm  has_burglar_alarm  \\\n",
       "0  Rare_var        87043              0               1                  1   \n",
       "1  Rare_var        53715              0               1                  0   \n",
       "2  Rare_var        53211              0               1                  0   \n",
       "3  Rare_var        88012              0               1                  1   \n",
       "4  Rare_var        72116              0               0                  0   \n",
       "\n",
       "   portable_electronics  coast fire_housing_proximity  previous_policies  \\\n",
       "0                   0.0   20.0                      5                  0   \n",
       "1                   1.0   30.0                      1                  0   \n",
       "2                   1.0    1.0                      1                  0   \n",
       "3                   1.0   20.0                      1                  0   \n",
       "4                   1.0   20.0                      1                  0   \n",
       "\n",
       "   user_age  target  product_new  card_type_new  \n",
       "0  3.663562       0            1              1  \n",
       "1  2.944439       0            1              2  \n",
       "2  2.995732       1            1              2  \n",
       "3  3.496508       0            1              2  \n",
       "4  2.995732       0            1              2  "
      ]
     },
     "execution_count": 233,
     "metadata": {},
     "output_type": "execute_result"
    }
   ],
   "source": [
    "new_df.head()"
   ]
  },
  {
   "cell_type": "code",
   "execution_count": 234,
   "id": "30b00603",
   "metadata": {},
   "outputs": [
    {
     "name": "stdout",
     "output_type": "stream",
     "text": [
      "<class 'pandas.core.frame.DataFrame'>\n",
      "RangeIndex: 12397 entries, 0 to 12396\n",
      "Data columns (total 13 columns):\n",
      " #   Column                  Non-Null Count  Dtype  \n",
      "---  ------                  --------------  -----  \n",
      " 0   state                   12397 non-null  object \n",
      " 1   postal_code             12397 non-null  int64  \n",
      " 2   high_risk_dog           12397 non-null  int64  \n",
      " 3   has_fire_alarm          12397 non-null  int64  \n",
      " 4   has_burglar_alarm       12397 non-null  int64  \n",
      " 5   portable_electronics    12397 non-null  float64\n",
      " 6   coast                   12397 non-null  float64\n",
      " 7   fire_housing_proximity  12397 non-null  object \n",
      " 8   previous_policies       12397 non-null  int64  \n",
      " 9   user_age                12397 non-null  float64\n",
      " 10  target                  12397 non-null  int64  \n",
      " 11  product_new             12397 non-null  int8   \n",
      " 12  card_type_new           12397 non-null  int8   \n",
      "dtypes: float64(3), int64(6), int8(2), object(2)\n",
      "memory usage: 1.1+ MB\n"
     ]
    }
   ],
   "source": [
    "new_df.info()"
   ]
  },
  {
   "cell_type": "code",
   "execution_count": 235,
   "id": "2ca3d1f0",
   "metadata": {},
   "outputs": [
    {
     "data": {
      "text/plain": [
       "1           6391\n",
       "2           3574\n",
       "3           1616\n",
       "4            595\n",
       "5            171\n",
       "Rare_var      50\n",
       "Name: fire_housing_proximity, dtype: int64"
      ]
     },
     "execution_count": 235,
     "metadata": {},
     "output_type": "execute_result"
    }
   ],
   "source": [
    "new_df['fire_housing_proximity'].value_counts()"
   ]
  },
  {
   "cell_type": "code",
   "execution_count": 236,
   "id": "12093729",
   "metadata": {},
   "outputs": [],
   "source": [
    "new_df['state']=new_df['state'].astype('category')\n",
    "new_df['fire_housing_proximity']=new_df['fire_housing_proximity'].astype('category')\n",
    " \n",
    " \n",
    "new_df['state_new']=new_df['state'].cat.codes\n",
    "new_df['fire_housing_proximity_new']=new_df['fire_housing_proximity'].cat.codes\n",
    " \n",
    " \n",
    "enc = OneHotEncoder()\n",
    " \n",
    "enc_data=pd.DataFrame(enc.fit_transform(new_df[['state_new','fire_housing_proximity_new']]).toarray())\n",
    " \n",
    "#Merge with main\n",
    "new_df=new_df.join(enc_data)"
   ]
  },
  {
   "cell_type": "code",
   "execution_count": 237,
   "id": "e3d857b8",
   "metadata": {},
   "outputs": [
    {
     "data": {
      "text/html": [
       "<div>\n",
       "<style scoped>\n",
       "    .dataframe tbody tr th:only-of-type {\n",
       "        vertical-align: middle;\n",
       "    }\n",
       "\n",
       "    .dataframe tbody tr th {\n",
       "        vertical-align: top;\n",
       "    }\n",
       "\n",
       "    .dataframe thead th {\n",
       "        text-align: right;\n",
       "    }\n",
       "</style>\n",
       "<table border=\"1\" class=\"dataframe\">\n",
       "  <thead>\n",
       "    <tr style=\"text-align: right;\">\n",
       "      <th></th>\n",
       "      <th>state</th>\n",
       "      <th>postal_code</th>\n",
       "      <th>high_risk_dog</th>\n",
       "      <th>has_fire_alarm</th>\n",
       "      <th>has_burglar_alarm</th>\n",
       "      <th>portable_electronics</th>\n",
       "      <th>coast</th>\n",
       "      <th>fire_housing_proximity</th>\n",
       "      <th>previous_policies</th>\n",
       "      <th>user_age</th>\n",
       "      <th>...</th>\n",
       "      <th>7</th>\n",
       "      <th>8</th>\n",
       "      <th>9</th>\n",
       "      <th>10</th>\n",
       "      <th>11</th>\n",
       "      <th>12</th>\n",
       "      <th>13</th>\n",
       "      <th>14</th>\n",
       "      <th>15</th>\n",
       "      <th>16</th>\n",
       "    </tr>\n",
       "  </thead>\n",
       "  <tbody>\n",
       "    <tr>\n",
       "      <th>0</th>\n",
       "      <td>Rare_var</td>\n",
       "      <td>87043</td>\n",
       "      <td>0</td>\n",
       "      <td>1</td>\n",
       "      <td>1</td>\n",
       "      <td>0.0</td>\n",
       "      <td>20.0</td>\n",
       "      <td>5</td>\n",
       "      <td>0</td>\n",
       "      <td>3.663562</td>\n",
       "      <td>...</td>\n",
       "      <td>0.0</td>\n",
       "      <td>0.0</td>\n",
       "      <td>1.0</td>\n",
       "      <td>0.0</td>\n",
       "      <td>0.0</td>\n",
       "      <td>0.0</td>\n",
       "      <td>0.0</td>\n",
       "      <td>0.0</td>\n",
       "      <td>1.0</td>\n",
       "      <td>0.0</td>\n",
       "    </tr>\n",
       "    <tr>\n",
       "      <th>1</th>\n",
       "      <td>Rare_var</td>\n",
       "      <td>53715</td>\n",
       "      <td>0</td>\n",
       "      <td>1</td>\n",
       "      <td>0</td>\n",
       "      <td>1.0</td>\n",
       "      <td>30.0</td>\n",
       "      <td>1</td>\n",
       "      <td>0</td>\n",
       "      <td>2.944439</td>\n",
       "      <td>...</td>\n",
       "      <td>0.0</td>\n",
       "      <td>0.0</td>\n",
       "      <td>1.0</td>\n",
       "      <td>0.0</td>\n",
       "      <td>1.0</td>\n",
       "      <td>0.0</td>\n",
       "      <td>0.0</td>\n",
       "      <td>0.0</td>\n",
       "      <td>0.0</td>\n",
       "      <td>0.0</td>\n",
       "    </tr>\n",
       "    <tr>\n",
       "      <th>2</th>\n",
       "      <td>Rare_var</td>\n",
       "      <td>53211</td>\n",
       "      <td>0</td>\n",
       "      <td>1</td>\n",
       "      <td>0</td>\n",
       "      <td>1.0</td>\n",
       "      <td>1.0</td>\n",
       "      <td>1</td>\n",
       "      <td>0</td>\n",
       "      <td>2.995732</td>\n",
       "      <td>...</td>\n",
       "      <td>0.0</td>\n",
       "      <td>0.0</td>\n",
       "      <td>1.0</td>\n",
       "      <td>0.0</td>\n",
       "      <td>1.0</td>\n",
       "      <td>0.0</td>\n",
       "      <td>0.0</td>\n",
       "      <td>0.0</td>\n",
       "      <td>0.0</td>\n",
       "      <td>0.0</td>\n",
       "    </tr>\n",
       "    <tr>\n",
       "      <th>3</th>\n",
       "      <td>Rare_var</td>\n",
       "      <td>88012</td>\n",
       "      <td>0</td>\n",
       "      <td>1</td>\n",
       "      <td>1</td>\n",
       "      <td>1.0</td>\n",
       "      <td>20.0</td>\n",
       "      <td>1</td>\n",
       "      <td>0</td>\n",
       "      <td>3.496508</td>\n",
       "      <td>...</td>\n",
       "      <td>0.0</td>\n",
       "      <td>0.0</td>\n",
       "      <td>1.0</td>\n",
       "      <td>0.0</td>\n",
       "      <td>1.0</td>\n",
       "      <td>0.0</td>\n",
       "      <td>0.0</td>\n",
       "      <td>0.0</td>\n",
       "      <td>0.0</td>\n",
       "      <td>0.0</td>\n",
       "    </tr>\n",
       "    <tr>\n",
       "      <th>4</th>\n",
       "      <td>Rare_var</td>\n",
       "      <td>72116</td>\n",
       "      <td>0</td>\n",
       "      <td>0</td>\n",
       "      <td>0</td>\n",
       "      <td>1.0</td>\n",
       "      <td>20.0</td>\n",
       "      <td>1</td>\n",
       "      <td>0</td>\n",
       "      <td>2.995732</td>\n",
       "      <td>...</td>\n",
       "      <td>0.0</td>\n",
       "      <td>0.0</td>\n",
       "      <td>1.0</td>\n",
       "      <td>0.0</td>\n",
       "      <td>1.0</td>\n",
       "      <td>0.0</td>\n",
       "      <td>0.0</td>\n",
       "      <td>0.0</td>\n",
       "      <td>0.0</td>\n",
       "      <td>0.0</td>\n",
       "    </tr>\n",
       "  </tbody>\n",
       "</table>\n",
       "<p>5 rows × 32 columns</p>\n",
       "</div>"
      ],
      "text/plain": [
       "      state  postal_code  high_risk_dog  has_fire_alarm  has_burglar_alarm  \\\n",
       "0  Rare_var        87043              0               1                  1   \n",
       "1  Rare_var        53715              0               1                  0   \n",
       "2  Rare_var        53211              0               1                  0   \n",
       "3  Rare_var        88012              0               1                  1   \n",
       "4  Rare_var        72116              0               0                  0   \n",
       "\n",
       "   portable_electronics  coast fire_housing_proximity  previous_policies  \\\n",
       "0                   0.0   20.0                      5                  0   \n",
       "1                   1.0   30.0                      1                  0   \n",
       "2                   1.0    1.0                      1                  0   \n",
       "3                   1.0   20.0                      1                  0   \n",
       "4                   1.0   20.0                      1                  0   \n",
       "\n",
       "   user_age  ...    7    8    9   10   11   12   13   14   15   16  \n",
       "0  3.663562  ...  0.0  0.0  1.0  0.0  0.0  0.0  0.0  0.0  1.0  0.0  \n",
       "1  2.944439  ...  0.0  0.0  1.0  0.0  1.0  0.0  0.0  0.0  0.0  0.0  \n",
       "2  2.995732  ...  0.0  0.0  1.0  0.0  1.0  0.0  0.0  0.0  0.0  0.0  \n",
       "3  3.496508  ...  0.0  0.0  1.0  0.0  1.0  0.0  0.0  0.0  0.0  0.0  \n",
       "4  2.995732  ...  0.0  0.0  1.0  0.0  1.0  0.0  0.0  0.0  0.0  0.0  \n",
       "\n",
       "[5 rows x 32 columns]"
      ]
     },
     "execution_count": 237,
     "metadata": {},
     "output_type": "execute_result"
    }
   ],
   "source": [
    "new_df.head()"
   ]
  },
  {
   "cell_type": "code",
   "execution_count": 244,
   "id": "6b98f07f",
   "metadata": {},
   "outputs": [],
   "source": [
    "to_drop=[num for num in range(0,17)]\n",
    "new_df = new_df.drop(to_drop, axis=1)"
   ]
  },
  {
   "cell_type": "code",
   "execution_count": 245,
   "id": "2cbf6068",
   "metadata": {},
   "outputs": [],
   "source": [
    "new_df = new_df.drop(['state', 'fire_housing_proximity'], axis=1)"
   ]
  },
  {
   "cell_type": "code",
   "execution_count": 246,
   "id": "d65f0fbc",
   "metadata": {},
   "outputs": [
    {
     "data": {
      "text/html": [
       "<div>\n",
       "<style scoped>\n",
       "    .dataframe tbody tr th:only-of-type {\n",
       "        vertical-align: middle;\n",
       "    }\n",
       "\n",
       "    .dataframe tbody tr th {\n",
       "        vertical-align: top;\n",
       "    }\n",
       "\n",
       "    .dataframe thead th {\n",
       "        text-align: right;\n",
       "    }\n",
       "</style>\n",
       "<table border=\"1\" class=\"dataframe\">\n",
       "  <thead>\n",
       "    <tr style=\"text-align: right;\">\n",
       "      <th></th>\n",
       "      <th>postal_code</th>\n",
       "      <th>high_risk_dog</th>\n",
       "      <th>has_fire_alarm</th>\n",
       "      <th>has_burglar_alarm</th>\n",
       "      <th>portable_electronics</th>\n",
       "      <th>coast</th>\n",
       "      <th>previous_policies</th>\n",
       "      <th>user_age</th>\n",
       "      <th>target</th>\n",
       "      <th>product_new</th>\n",
       "      <th>card_type_new</th>\n",
       "      <th>state_new</th>\n",
       "      <th>fire_housing_proximity_new</th>\n",
       "    </tr>\n",
       "  </thead>\n",
       "  <tbody>\n",
       "    <tr>\n",
       "      <th>0</th>\n",
       "      <td>87043</td>\n",
       "      <td>0</td>\n",
       "      <td>1</td>\n",
       "      <td>1</td>\n",
       "      <td>0.0</td>\n",
       "      <td>20.0</td>\n",
       "      <td>0</td>\n",
       "      <td>3.663562</td>\n",
       "      <td>0</td>\n",
       "      <td>1</td>\n",
       "      <td>1</td>\n",
       "      <td>9</td>\n",
       "      <td>4</td>\n",
       "    </tr>\n",
       "    <tr>\n",
       "      <th>1</th>\n",
       "      <td>53715</td>\n",
       "      <td>0</td>\n",
       "      <td>1</td>\n",
       "      <td>0</td>\n",
       "      <td>1.0</td>\n",
       "      <td>30.0</td>\n",
       "      <td>0</td>\n",
       "      <td>2.944439</td>\n",
       "      <td>0</td>\n",
       "      <td>1</td>\n",
       "      <td>2</td>\n",
       "      <td>9</td>\n",
       "      <td>0</td>\n",
       "    </tr>\n",
       "    <tr>\n",
       "      <th>2</th>\n",
       "      <td>53211</td>\n",
       "      <td>0</td>\n",
       "      <td>1</td>\n",
       "      <td>0</td>\n",
       "      <td>1.0</td>\n",
       "      <td>1.0</td>\n",
       "      <td>0</td>\n",
       "      <td>2.995732</td>\n",
       "      <td>1</td>\n",
       "      <td>1</td>\n",
       "      <td>2</td>\n",
       "      <td>9</td>\n",
       "      <td>0</td>\n",
       "    </tr>\n",
       "    <tr>\n",
       "      <th>3</th>\n",
       "      <td>88012</td>\n",
       "      <td>0</td>\n",
       "      <td>1</td>\n",
       "      <td>1</td>\n",
       "      <td>1.0</td>\n",
       "      <td>20.0</td>\n",
       "      <td>0</td>\n",
       "      <td>3.496508</td>\n",
       "      <td>0</td>\n",
       "      <td>1</td>\n",
       "      <td>2</td>\n",
       "      <td>9</td>\n",
       "      <td>0</td>\n",
       "    </tr>\n",
       "    <tr>\n",
       "      <th>4</th>\n",
       "      <td>72116</td>\n",
       "      <td>0</td>\n",
       "      <td>0</td>\n",
       "      <td>0</td>\n",
       "      <td>1.0</td>\n",
       "      <td>20.0</td>\n",
       "      <td>0</td>\n",
       "      <td>2.995732</td>\n",
       "      <td>0</td>\n",
       "      <td>1</td>\n",
       "      <td>2</td>\n",
       "      <td>9</td>\n",
       "      <td>0</td>\n",
       "    </tr>\n",
       "  </tbody>\n",
       "</table>\n",
       "</div>"
      ],
      "text/plain": [
       "   postal_code  high_risk_dog  has_fire_alarm  has_burglar_alarm  \\\n",
       "0        87043              0               1                  1   \n",
       "1        53715              0               1                  0   \n",
       "2        53211              0               1                  0   \n",
       "3        88012              0               1                  1   \n",
       "4        72116              0               0                  0   \n",
       "\n",
       "   portable_electronics  coast  previous_policies  user_age  target  \\\n",
       "0                   0.0   20.0                  0  3.663562       0   \n",
       "1                   1.0   30.0                  0  2.944439       0   \n",
       "2                   1.0    1.0                  0  2.995732       1   \n",
       "3                   1.0   20.0                  0  3.496508       0   \n",
       "4                   1.0   20.0                  0  2.995732       0   \n",
       "\n",
       "   product_new  card_type_new  state_new  fire_housing_proximity_new  \n",
       "0            1              1          9                           4  \n",
       "1            1              2          9                           0  \n",
       "2            1              2          9                           0  \n",
       "3            1              2          9                           0  \n",
       "4            1              2          9                           0  "
      ]
     },
     "execution_count": 246,
     "metadata": {},
     "output_type": "execute_result"
    }
   ],
   "source": [
    "new_df.head()"
   ]
  },
  {
   "cell_type": "code",
   "execution_count": 247,
   "id": "ad580ad1",
   "metadata": {},
   "outputs": [],
   "source": [
    "new_df = new_df.drop(['high_risk_dog'], axis=1)"
   ]
  },
  {
   "cell_type": "code",
   "execution_count": 249,
   "id": "19317a90",
   "metadata": {},
   "outputs": [
    {
     "name": "stdout",
     "output_type": "stream",
     "text": [
      "<class 'pandas.core.frame.DataFrame'>\n",
      "RangeIndex: 12397 entries, 0 to 12396\n",
      "Data columns (total 12 columns):\n",
      " #   Column                      Non-Null Count  Dtype  \n",
      "---  ------                      --------------  -----  \n",
      " 0   postal_code                 12397 non-null  int64  \n",
      " 1   has_fire_alarm              12397 non-null  int64  \n",
      " 2   has_burglar_alarm           12397 non-null  int64  \n",
      " 3   portable_electronics        12397 non-null  float64\n",
      " 4   coast                       12397 non-null  float64\n",
      " 5   previous_policies           12397 non-null  int64  \n",
      " 6   user_age                    12397 non-null  float64\n",
      " 7   target                      12397 non-null  int64  \n",
      " 8   product_new                 12397 non-null  int8   \n",
      " 9   card_type_new               12397 non-null  int8   \n",
      " 10  state_new                   12397 non-null  int8   \n",
      " 11  fire_housing_proximity_new  12397 non-null  int8   \n",
      "dtypes: float64(3), int64(5), int8(4)\n",
      "memory usage: 823.4 KB\n"
     ]
    }
   ],
   "source": [
    "new_df.info()"
   ]
  },
  {
   "cell_type": "code",
   "execution_count": 250,
   "id": "da33c948",
   "metadata": {},
   "outputs": [
    {
     "data": {
      "text/html": [
       "<style>#sk-container-id-1 {color: black;background-color: white;}#sk-container-id-1 pre{padding: 0;}#sk-container-id-1 div.sk-toggleable {background-color: white;}#sk-container-id-1 label.sk-toggleable__label {cursor: pointer;display: block;width: 100%;margin-bottom: 0;padding: 0.3em;box-sizing: border-box;text-align: center;}#sk-container-id-1 label.sk-toggleable__label-arrow:before {content: \"▸\";float: left;margin-right: 0.25em;color: #696969;}#sk-container-id-1 label.sk-toggleable__label-arrow:hover:before {color: black;}#sk-container-id-1 div.sk-estimator:hover label.sk-toggleable__label-arrow:before {color: black;}#sk-container-id-1 div.sk-toggleable__content {max-height: 0;max-width: 0;overflow: hidden;text-align: left;background-color: #f0f8ff;}#sk-container-id-1 div.sk-toggleable__content pre {margin: 0.2em;color: black;border-radius: 0.25em;background-color: #f0f8ff;}#sk-container-id-1 input.sk-toggleable__control:checked~div.sk-toggleable__content {max-height: 200px;max-width: 100%;overflow: auto;}#sk-container-id-1 input.sk-toggleable__control:checked~label.sk-toggleable__label-arrow:before {content: \"▾\";}#sk-container-id-1 div.sk-estimator input.sk-toggleable__control:checked~label.sk-toggleable__label {background-color: #d4ebff;}#sk-container-id-1 div.sk-label input.sk-toggleable__control:checked~label.sk-toggleable__label {background-color: #d4ebff;}#sk-container-id-1 input.sk-hidden--visually {border: 0;clip: rect(1px 1px 1px 1px);clip: rect(1px, 1px, 1px, 1px);height: 1px;margin: -1px;overflow: hidden;padding: 0;position: absolute;width: 1px;}#sk-container-id-1 div.sk-estimator {font-family: monospace;background-color: #f0f8ff;border: 1px dotted black;border-radius: 0.25em;box-sizing: border-box;margin-bottom: 0.5em;}#sk-container-id-1 div.sk-estimator:hover {background-color: #d4ebff;}#sk-container-id-1 div.sk-parallel-item::after {content: \"\";width: 100%;border-bottom: 1px solid gray;flex-grow: 1;}#sk-container-id-1 div.sk-label:hover label.sk-toggleable__label {background-color: #d4ebff;}#sk-container-id-1 div.sk-serial::before {content: \"\";position: absolute;border-left: 1px solid gray;box-sizing: border-box;top: 0;bottom: 0;left: 50%;z-index: 0;}#sk-container-id-1 div.sk-serial {display: flex;flex-direction: column;align-items: center;background-color: white;padding-right: 0.2em;padding-left: 0.2em;position: relative;}#sk-container-id-1 div.sk-item {position: relative;z-index: 1;}#sk-container-id-1 div.sk-parallel {display: flex;align-items: stretch;justify-content: center;background-color: white;position: relative;}#sk-container-id-1 div.sk-item::before, #sk-container-id-1 div.sk-parallel-item::before {content: \"\";position: absolute;border-left: 1px solid gray;box-sizing: border-box;top: 0;bottom: 0;left: 50%;z-index: -1;}#sk-container-id-1 div.sk-parallel-item {display: flex;flex-direction: column;z-index: 1;position: relative;background-color: white;}#sk-container-id-1 div.sk-parallel-item:first-child::after {align-self: flex-end;width: 50%;}#sk-container-id-1 div.sk-parallel-item:last-child::after {align-self: flex-start;width: 50%;}#sk-container-id-1 div.sk-parallel-item:only-child::after {width: 0;}#sk-container-id-1 div.sk-dashed-wrapped {border: 1px dashed gray;margin: 0 0.4em 0.5em 0.4em;box-sizing: border-box;padding-bottom: 0.4em;background-color: white;}#sk-container-id-1 div.sk-label label {font-family: monospace;font-weight: bold;display: inline-block;line-height: 1.2em;}#sk-container-id-1 div.sk-label-container {text-align: center;}#sk-container-id-1 div.sk-container {/* jupyter's `normalize.less` sets `[hidden] { display: none; }` but bootstrap.min.css set `[hidden] { display: none !important; }` so we also need the `!important` here to be able to override the default hidden behavior on the sphinx rendered scikit-learn.org. See: https://github.com/scikit-learn/scikit-learn/issues/21755 */display: inline-block !important;position: relative;}#sk-container-id-1 div.sk-text-repr-fallback {display: none;}</style><div id=\"sk-container-id-1\" class=\"sk-top-container\"><div class=\"sk-text-repr-fallback\"><pre>MinMaxScaler()</pre><b>In a Jupyter environment, please rerun this cell to show the HTML representation or trust the notebook. <br />On GitHub, the HTML representation is unable to render, please try loading this page with nbviewer.org.</b></div><div class=\"sk-container\" hidden><div class=\"sk-item\"><div class=\"sk-estimator sk-toggleable\"><input class=\"sk-toggleable__control sk-hidden--visually\" id=\"sk-estimator-id-1\" type=\"checkbox\" checked><label for=\"sk-estimator-id-1\" class=\"sk-toggleable__label sk-toggleable__label-arrow\">MinMaxScaler</label><div class=\"sk-toggleable__content\"><pre>MinMaxScaler()</pre></div></div></div></div></div>"
      ],
      "text/plain": [
       "MinMaxScaler()"
      ]
     },
     "execution_count": 250,
     "metadata": {},
     "output_type": "execute_result"
    }
   ],
   "source": [
    "from sklearn.preprocessing import MinMaxScaler\n",
    "scaler=MinMaxScaler()\n",
    "scaler.fit(new_df)"
   ]
  },
  {
   "cell_type": "code",
   "execution_count": 251,
   "id": "e4dfa853",
   "metadata": {},
   "outputs": [
    {
     "data": {
      "text/html": [
       "<div>\n",
       "<style scoped>\n",
       "    .dataframe tbody tr th:only-of-type {\n",
       "        vertical-align: middle;\n",
       "    }\n",
       "\n",
       "    .dataframe tbody tr th {\n",
       "        vertical-align: top;\n",
       "    }\n",
       "\n",
       "    .dataframe thead th {\n",
       "        text-align: right;\n",
       "    }\n",
       "</style>\n",
       "<table border=\"1\" class=\"dataframe\">\n",
       "  <thead>\n",
       "    <tr style=\"text-align: right;\">\n",
       "      <th></th>\n",
       "      <th>postal_code</th>\n",
       "      <th>has_fire_alarm</th>\n",
       "      <th>has_burglar_alarm</th>\n",
       "      <th>portable_electronics</th>\n",
       "      <th>coast</th>\n",
       "      <th>previous_policies</th>\n",
       "      <th>user_age</th>\n",
       "      <th>target</th>\n",
       "      <th>product_new</th>\n",
       "      <th>card_type_new</th>\n",
       "      <th>state_new</th>\n",
       "      <th>fire_housing_proximity_new</th>\n",
       "    </tr>\n",
       "  </thead>\n",
       "  <tbody>\n",
       "    <tr>\n",
       "      <th>0</th>\n",
       "      <td>87043</td>\n",
       "      <td>1</td>\n",
       "      <td>1</td>\n",
       "      <td>0.0</td>\n",
       "      <td>20.0</td>\n",
       "      <td>0</td>\n",
       "      <td>3.663562</td>\n",
       "      <td>0</td>\n",
       "      <td>1</td>\n",
       "      <td>1</td>\n",
       "      <td>9</td>\n",
       "      <td>4</td>\n",
       "    </tr>\n",
       "    <tr>\n",
       "      <th>1</th>\n",
       "      <td>53715</td>\n",
       "      <td>1</td>\n",
       "      <td>0</td>\n",
       "      <td>1.0</td>\n",
       "      <td>30.0</td>\n",
       "      <td>0</td>\n",
       "      <td>2.944439</td>\n",
       "      <td>0</td>\n",
       "      <td>1</td>\n",
       "      <td>2</td>\n",
       "      <td>9</td>\n",
       "      <td>0</td>\n",
       "    </tr>\n",
       "    <tr>\n",
       "      <th>2</th>\n",
       "      <td>53211</td>\n",
       "      <td>1</td>\n",
       "      <td>0</td>\n",
       "      <td>1.0</td>\n",
       "      <td>1.0</td>\n",
       "      <td>0</td>\n",
       "      <td>2.995732</td>\n",
       "      <td>1</td>\n",
       "      <td>1</td>\n",
       "      <td>2</td>\n",
       "      <td>9</td>\n",
       "      <td>0</td>\n",
       "    </tr>\n",
       "    <tr>\n",
       "      <th>3</th>\n",
       "      <td>88012</td>\n",
       "      <td>1</td>\n",
       "      <td>1</td>\n",
       "      <td>1.0</td>\n",
       "      <td>20.0</td>\n",
       "      <td>0</td>\n",
       "      <td>3.496508</td>\n",
       "      <td>0</td>\n",
       "      <td>1</td>\n",
       "      <td>2</td>\n",
       "      <td>9</td>\n",
       "      <td>0</td>\n",
       "    </tr>\n",
       "    <tr>\n",
       "      <th>4</th>\n",
       "      <td>72116</td>\n",
       "      <td>0</td>\n",
       "      <td>0</td>\n",
       "      <td>1.0</td>\n",
       "      <td>20.0</td>\n",
       "      <td>0</td>\n",
       "      <td>2.995732</td>\n",
       "      <td>0</td>\n",
       "      <td>1</td>\n",
       "      <td>2</td>\n",
       "      <td>9</td>\n",
       "      <td>0</td>\n",
       "    </tr>\n",
       "  </tbody>\n",
       "</table>\n",
       "</div>"
      ],
      "text/plain": [
       "   postal_code  has_fire_alarm  has_burglar_alarm  portable_electronics  \\\n",
       "0        87043               1                  1                   0.0   \n",
       "1        53715               1                  0                   1.0   \n",
       "2        53211               1                  0                   1.0   \n",
       "3        88012               1                  1                   1.0   \n",
       "4        72116               0                  0                   1.0   \n",
       "\n",
       "   coast  previous_policies  user_age  target  product_new  card_type_new  \\\n",
       "0   20.0                  0  3.663562       0            1              1   \n",
       "1   30.0                  0  2.944439       0            1              2   \n",
       "2    1.0                  0  2.995732       1            1              2   \n",
       "3   20.0                  0  3.496508       0            1              2   \n",
       "4   20.0                  0  2.995732       0            1              2   \n",
       "\n",
       "   state_new  fire_housing_proximity_new  \n",
       "0          9                           4  \n",
       "1          9                           0  \n",
       "2          9                           0  \n",
       "3          9                           0  \n",
       "4          9                           0  "
      ]
     },
     "execution_count": 251,
     "metadata": {},
     "output_type": "execute_result"
    }
   ],
   "source": [
    "new_df.head()"
   ]
  },
  {
   "cell_type": "code",
   "execution_count": 310,
   "id": "89d6527d",
   "metadata": {},
   "outputs": [],
   "source": [
    "scaled_df = pd.DataFrame(scaler.transform(new_df), columns=new_df.columns)"
   ]
  },
  {
   "cell_type": "code",
   "execution_count": 315,
   "id": "a415a9dd",
   "metadata": {},
   "outputs": [],
   "source": [
    "X = scaled_df.drop('target', axis=1)\n",
    "y = scaled_df['target']"
   ]
  },
  {
   "cell_type": "code",
   "execution_count": 316,
   "id": "fa7ae1cc",
   "metadata": {},
   "outputs": [
    {
     "data": {
      "text/html": [
       "<div>\n",
       "<style scoped>\n",
       "    .dataframe tbody tr th:only-of-type {\n",
       "        vertical-align: middle;\n",
       "    }\n",
       "\n",
       "    .dataframe tbody tr th {\n",
       "        vertical-align: top;\n",
       "    }\n",
       "\n",
       "    .dataframe thead th {\n",
       "        text-align: right;\n",
       "    }\n",
       "</style>\n",
       "<table border=\"1\" class=\"dataframe\">\n",
       "  <thead>\n",
       "    <tr style=\"text-align: right;\">\n",
       "      <th></th>\n",
       "      <th>postal_code</th>\n",
       "      <th>has_fire_alarm</th>\n",
       "      <th>has_burglar_alarm</th>\n",
       "      <th>portable_electronics</th>\n",
       "      <th>coast</th>\n",
       "      <th>previous_policies</th>\n",
       "      <th>user_age</th>\n",
       "      <th>product_new</th>\n",
       "      <th>card_type_new</th>\n",
       "      <th>state_new</th>\n",
       "      <th>fire_housing_proximity_new</th>\n",
       "    </tr>\n",
       "  </thead>\n",
       "  <tbody>\n",
       "    <tr>\n",
       "      <th>4299</th>\n",
       "      <td>0.286648</td>\n",
       "      <td>1.0</td>\n",
       "      <td>0.0</td>\n",
       "      <td>0.0</td>\n",
       "      <td>1.000000</td>\n",
       "      <td>0.000000</td>\n",
       "      <td>0.160337</td>\n",
       "      <td>0.5</td>\n",
       "      <td>0.666667</td>\n",
       "      <td>0.2</td>\n",
       "      <td>0.2</td>\n",
       "    </tr>\n",
       "    <tr>\n",
       "      <th>6691</th>\n",
       "      <td>0.088307</td>\n",
       "      <td>1.0</td>\n",
       "      <td>0.0</td>\n",
       "      <td>0.0</td>\n",
       "      <td>0.066667</td>\n",
       "      <td>0.000000</td>\n",
       "      <td>0.283290</td>\n",
       "      <td>0.5</td>\n",
       "      <td>0.333333</td>\n",
       "      <td>0.6</td>\n",
       "      <td>0.0</td>\n",
       "    </tr>\n",
       "    <tr>\n",
       "      <th>5168</th>\n",
       "      <td>0.619574</td>\n",
       "      <td>0.0</td>\n",
       "      <td>0.0</td>\n",
       "      <td>0.0</td>\n",
       "      <td>1.000000</td>\n",
       "      <td>0.000000</td>\n",
       "      <td>0.492226</td>\n",
       "      <td>0.5</td>\n",
       "      <td>0.666667</td>\n",
       "      <td>0.3</td>\n",
       "      <td>0.2</td>\n",
       "    </tr>\n",
       "    <tr>\n",
       "      <th>10529</th>\n",
       "      <td>0.800162</td>\n",
       "      <td>1.0</td>\n",
       "      <td>0.0</td>\n",
       "      <td>1.0</td>\n",
       "      <td>1.000000</td>\n",
       "      <td>0.142857</td>\n",
       "      <td>0.383037</td>\n",
       "      <td>0.5</td>\n",
       "      <td>0.666667</td>\n",
       "      <td>1.0</td>\n",
       "      <td>0.0</td>\n",
       "    </tr>\n",
       "    <tr>\n",
       "      <th>12014</th>\n",
       "      <td>0.800194</td>\n",
       "      <td>1.0</td>\n",
       "      <td>0.0</td>\n",
       "      <td>1.0</td>\n",
       "      <td>1.000000</td>\n",
       "      <td>0.000000</td>\n",
       "      <td>0.383037</td>\n",
       "      <td>0.5</td>\n",
       "      <td>0.666667</td>\n",
       "      <td>1.0</td>\n",
       "      <td>0.0</td>\n",
       "    </tr>\n",
       "  </tbody>\n",
       "</table>\n",
       "</div>"
      ],
      "text/plain": [
       "       postal_code  has_fire_alarm  has_burglar_alarm  portable_electronics  \\\n",
       "4299      0.286648             1.0                0.0                   0.0   \n",
       "6691      0.088307             1.0                0.0                   0.0   \n",
       "5168      0.619574             0.0                0.0                   0.0   \n",
       "10529     0.800162             1.0                0.0                   1.0   \n",
       "12014     0.800194             1.0                0.0                   1.0   \n",
       "\n",
       "          coast  previous_policies  user_age  product_new  card_type_new  \\\n",
       "4299   1.000000           0.000000  0.160337          0.5       0.666667   \n",
       "6691   0.066667           0.000000  0.283290          0.5       0.333333   \n",
       "5168   1.000000           0.000000  0.492226          0.5       0.666667   \n",
       "10529  1.000000           0.142857  0.383037          0.5       0.666667   \n",
       "12014  1.000000           0.000000  0.383037          0.5       0.666667   \n",
       "\n",
       "       state_new  fire_housing_proximity_new  \n",
       "4299         0.2                         0.2  \n",
       "6691         0.6                         0.0  \n",
       "5168         0.3                         0.2  \n",
       "10529        1.0                         0.0  \n",
       "12014        1.0                         0.0  "
      ]
     },
     "execution_count": 316,
     "metadata": {},
     "output_type": "execute_result"
    }
   ],
   "source": [
    "X_train, X_test, y_train, y_test = train_test_split(X, y,test_size=0.15,random_state=0)\n",
    "X_train.head()"
   ]
  },
  {
   "cell_type": "code",
   "execution_count": 317,
   "id": "1fdfbb6f",
   "metadata": {},
   "outputs": [],
   "source": [
    "X_train.to_csv('X_train.csv', index=False)\n",
    "X_test.to_csv('X_test.csv', index=False)\n",
    "y_train.to_csv('y_train.csv', index=False)\n",
    "y_train.to_csv('y_test.csv', index=False)"
   ]
  },
  {
   "cell_type": "code",
   "execution_count": 318,
   "id": "061c4b89",
   "metadata": {},
   "outputs": [],
   "source": [
    "from sklearn.feature_selection import SelectFromModel\n",
    "from sklearn.tree import DecisionTreeClassifier"
   ]
  },
  {
   "cell_type": "code",
   "execution_count": 322,
   "id": "27877a7a",
   "metadata": {},
   "outputs": [],
   "source": [
    "clf = DecisionTreeClassifier(random_state=0)\n",
    "path = clf.cost_complexity_pruning_path(X_train, y_train)\n",
    "ccp_alphas, impurities = path.ccp_alphas, path.impurities"
   ]
  },
  {
   "cell_type": "code",
   "execution_count": 323,
   "id": "a7df4ce6",
   "metadata": {},
   "outputs": [
    {
     "data": {
      "text/plain": [
       "Text(0.5, 1.0, 'Total Impurity vs effective alpha for training set')"
      ]
     },
     "execution_count": 323,
     "metadata": {},
     "output_type": "execute_result"
    },
    {
     "data": {
      "image/png": "[encoded data removed]",
      "text/plain": [
       "<Figure size 432x288 with 1 Axes>"
      ]
     },
     "metadata": {
      "needs_background": "light"
     },
     "output_type": "display_data"
    }
   ],
   "source": [
    "fig, ax = plt.subplots()\n",
    "ax.plot(ccp_alphas[:-1], impurities[:-1], marker=\"o\", drawstyle=\"steps-post\")\n",
    "ax.set_xlabel(\"effective alpha\")\n",
    "ax.set_ylabel(\"total impurity of leaves\")\n",
    "ax.set_title(\"Total Impurity vs effective alpha for training set\")\n"
   ]
  },
  {
   "cell_type": "code",
   "execution_count": 324,
   "id": "babc908a",
   "metadata": {},
   "outputs": [
    {
     "name": "stdout",
     "output_type": "stream",
     "text": [
      "Number of nodes in the last tree is: 1 with ccp_alpha: 0.00010985739684713433\n"
     ]
    }
   ],
   "source": [
    "clfs = []\n",
    "for ccp_alpha in ccp_alphas:\n",
    "    clf = DecisionTreeClassifier(random_state=0, ccp_alpha=ccp_alpha)\n",
    "    clf.fit(X_train, y_train)\n",
    "    clfs.append(clf)\n",
    "print(\n",
    "    \"Number of nodes in the last tree is: {} with ccp_alpha: {}\".format(\n",
    "        clfs[-1].tree_.node_count, ccp_alphas[-1]\n",
    "    )\n",
    ")"
   ]
  },
  {
   "cell_type": "code",
   "execution_count": 325,
   "id": "d06b0d4a",
   "metadata": {},
   "outputs": [
    {
     "data": {
      "image/png": "[encoded data removed]",
      "text/plain": [
       "<Figure size 432x288 with 2 Axes>"
      ]
     },
     "metadata": {
      "needs_background": "light"
     },
     "output_type": "display_data"
    }
   ],
   "source": [
    "clfs = clfs[:-1]\n",
    "ccp_alphas = ccp_alphas[:-1]\n",
    "\n",
    "node_counts = [clf.tree_.node_count for clf in clfs]\n",
    "depth = [clf.tree_.max_depth for clf in clfs]\n",
    "fig, ax = plt.subplots(2, 1)\n",
    "ax[0].plot(ccp_alphas, node_counts, marker=\"o\", drawstyle=\"steps-post\")\n",
    "ax[0].set_xlabel(\"alpha\")\n",
    "ax[0].set_ylabel(\"number of nodes\")\n",
    "ax[0].set_title(\"Number of nodes vs alpha\")\n",
    "ax[1].plot(ccp_alphas, depth, marker=\"o\", drawstyle=\"steps-post\")\n",
    "ax[1].set_xlabel(\"alpha\")\n",
    "ax[1].set_ylabel(\"depth of tree\")\n",
    "ax[1].set_title(\"Depth vs alpha\")\n",
    "fig.tight_layout()\n"
   ]
  },
  {
   "cell_type": "code",
   "execution_count": 326,
   "id": "74d6af69",
   "metadata": {},
   "outputs": [
    {
     "data": {
      "image/png": "[encoded data removed]",
      "text/plain": [
       "<Figure size 432x288 with 1 Axes>"
      ]
     },
     "metadata": {
      "needs_background": "light"
     },
     "output_type": "display_data"
    }
   ],
   "source": [
    "train_scores = [clf.score(X_train, y_train) for clf in clfs]\n",
    "test_scores = [clf.score(X_test, y_test) for clf in clfs]\n",
    "\n",
    "fig, ax = plt.subplots()\n",
    "ax.set_xlabel(\"alpha\")\n",
    "ax.set_ylabel(\"accuracy\")\n",
    "ax.set_title(\"Accuracy vs alpha for training and testing sets\")\n",
    "ax.plot(ccp_alphas, train_scores, marker=\"o\", label=\"train\", drawstyle=\"steps-post\")\n",
    "ax.plot(ccp_alphas, test_scores, marker=\"o\", label=\"test\", drawstyle=\"steps-post\")\n",
    "ax.legend()\n",
    "plt.show()"
   ]
  },
  {
   "cell_type": "code",
   "execution_count": 327,
   "id": "ba38aba0",
   "metadata": {},
   "outputs": [
    {
     "data": {
      "text/plain": [
       "[0.9478494623655914,\n",
       " 0.9478494623655914,\n",
       " 0.9478494623655914,\n",
       " 0.9478494623655914,\n",
       " 0.9478494623655914,\n",
       " 0.9478494623655914,\n",
       " 0.9478494623655914,\n",
       " 0.9478494623655914,\n",
       " 0.9478494623655914,\n",
       " 0.9478494623655914,\n",
       " 0.9478494623655914,\n",
       " 0.9478494623655914,\n",
       " 0.9478494623655914,\n",
       " 0.9478494623655914,\n",
       " 0.9478494623655914,\n",
       " 0.9478494623655914,\n",
       " 0.9478494623655914,\n",
       " 0.9483870967741935,\n",
       " 0.9483870967741935,\n",
       " 0.9494623655913978,\n",
       " 0.9494623655913978,\n",
       " 0.9494623655913978,\n",
       " 0.9494623655913978,\n",
       " 0.9489247311827957,\n",
       " 0.9489247311827957,\n",
       " 0.9494623655913978,\n",
       " 0.9494623655913978,\n",
       " 0.9494623655913978,\n",
       " 0.9494623655913978,\n",
       " 0.9494623655913978,\n",
       " 0.95,\n",
       " 0.9505376344086022,\n",
       " 0.9516129032258065,\n",
       " 0.9510752688172043,\n",
       " 0.9516129032258065,\n",
       " 0.9516129032258065,\n",
       " 0.9521505376344086,\n",
       " 0.9521505376344086,\n",
       " 0.9521505376344086,\n",
       " 0.9521505376344086,\n",
       " 0.9521505376344086,\n",
       " 0.9521505376344086,\n",
       " 0.9521505376344086,\n",
       " 0.9521505376344086,\n",
       " 0.9521505376344086,\n",
       " 0.9521505376344086,\n",
       " 0.9521505376344086,\n",
       " 0.9526881720430107,\n",
       " 0.9526881720430107,\n",
       " 0.9526881720430107,\n",
       " 0.9526881720430107,\n",
       " 0.9526881720430107,\n",
       " 0.9526881720430107,\n",
       " 0.9526881720430107,\n",
       " 0.9526881720430107,\n",
       " 0.9532258064516129,\n",
       " 0.9532258064516129,\n",
       " 0.9532258064516129,\n",
       " 0.953763440860215,\n",
       " 0.953763440860215,\n",
       " 0.9548387096774194,\n",
       " 0.9548387096774194,\n",
       " 0.9548387096774194,\n",
       " 0.9548387096774194,\n",
       " 0.9559139784946237,\n",
       " 0.9564516129032258,\n",
       " 0.9564516129032258,\n",
       " 0.9580645161290322,\n",
       " 0.9580645161290322,\n",
       " 0.9580645161290322,\n",
       " 0.9591397849462365,\n",
       " 0.9591397849462365,\n",
       " 0.9591397849462365,\n",
       " 0.9591397849462365,\n",
       " 0.9591397849462365,\n",
       " 0.9591397849462365,\n",
       " 0.9591397849462365,\n",
       " 0.9591397849462365,\n",
       " 0.9596774193548387,\n",
       " 0.9602150537634409,\n",
       " 0.9602150537634409,\n",
       " 0.9612903225806452,\n",
       " 0.9623655913978495,\n",
       " 0.9623655913978495,\n",
       " 0.9623655913978495,\n",
       " 0.9629032258064516,\n",
       " 0.9634408602150538,\n",
       " 0.9639784946236559,\n",
       " 0.964516129032258,\n",
       " 0.9650537634408602,\n",
       " 0.9650537634408602,\n",
       " 0.9655913978494624,\n",
       " 0.9655913978494624,\n",
       " 0.9661290322580646,\n",
       " 0.9661290322580646,\n",
       " 0.9666666666666667,\n",
       " 0.9666666666666667,\n",
       " 0.9666666666666667,\n",
       " 0.967741935483871,\n",
       " 0.967741935483871,\n",
       " 0.967741935483871,\n",
       " 0.967741935483871,\n",
       " 0.967741935483871,\n",
       " 0.967741935483871,\n",
       " 0.967741935483871,\n",
       " 0.9682795698924731,\n",
       " 0.9693548387096774,\n",
       " 0.9698924731182795,\n",
       " 0.9693548387096774,\n",
       " 0.9693548387096774,\n",
       " 0.9693548387096774,\n",
       " 0.9720430107526882,\n",
       " 0.9731182795698925]"
      ]
     },
     "execution_count": 327,
     "metadata": {},
     "output_type": "execute_result"
    }
   ],
   "source": [
    "test_scores"
   ]
  },
  {
   "cell_type": "code",
   "execution_count": 328,
   "id": "f7534760",
   "metadata": {},
   "outputs": [
    {
     "data": {
      "text/plain": [
       "14"
      ]
     },
     "execution_count": 328,
     "metadata": {},
     "output_type": "execute_result"
    }
   ],
   "source": [
    "clfs[-1].get_depth()"
   ]
  },
  {
   "cell_type": "code",
   "execution_count": 329,
   "id": "5f47fa2c",
   "metadata": {},
   "outputs": [
    {
     "data": {
      "text/plain": [
       "41"
      ]
     },
     "execution_count": 329,
     "metadata": {},
     "output_type": "execute_result"
    }
   ],
   "source": [
    "clfs[-1].get_n_leaves()"
   ]
  },
  {
   "cell_type": "code",
   "execution_count": 330,
   "id": "5eb47580",
   "metadata": {},
   "outputs": [
    {
     "data": {
      "text/plain": [
       "{'ccp_alpha': 0.00010231377164987943,\n",
       " 'class_weight': None,\n",
       " 'criterion': 'gini',\n",
       " 'max_depth': None,\n",
       " 'max_features': None,\n",
       " 'max_leaf_nodes': None,\n",
       " 'min_impurity_decrease': 0.0,\n",
       " 'min_samples_leaf': 1,\n",
       " 'min_samples_split': 2,\n",
       " 'min_weight_fraction_leaf': 0.0,\n",
       " 'random_state': 0,\n",
       " 'splitter': 'best'}"
      ]
     },
     "execution_count": 330,
     "metadata": {},
     "output_type": "execute_result"
    }
   ],
   "source": [
    "clfs[-1].get_params()"
   ]
  },
  {
   "cell_type": "code",
   "execution_count": 331,
   "id": "e29ce6da",
   "metadata": {},
   "outputs": [
    {
     "data": {
      "text/plain": [
       "0.9731182795698925"
      ]
     },
     "execution_count": 331,
     "metadata": {},
     "output_type": "execute_result"
    }
   ],
   "source": [
    "clfs[-1].score(X_test, y_test)"
   ]
  },
  {
   "cell_type": "code",
   "execution_count": 339,
   "id": "ea11653b",
   "metadata": {},
   "outputs": [
    {
     "data": {
      "text/plain": [
       "0.0    1854\n",
       "1.0       6\n",
       "dtype: int64"
      ]
     },
     "execution_count": 339,
     "metadata": {},
     "output_type": "execute_result"
    }
   ],
   "source": [
    "y_pred = clfs[-1].predict(X_test)\n",
    "pred = pd.DataFrame(y_pred)\n",
    "pred.value_counts()"
   ]
  },
  {
   "cell_type": "code",
   "execution_count": 333,
   "id": "dffb4326",
   "metadata": {},
   "outputs": [],
   "source": [
    "from sklearn.metrics import f1_score"
   ]
  },
  {
   "cell_type": "code",
   "execution_count": 334,
   "id": "87888214",
   "metadata": {},
   "outputs": [
    {
     "data": {
      "text/plain": [
       "0.0"
      ]
     },
     "execution_count": 334,
     "metadata": {},
     "output_type": "execute_result"
    }
   ],
   "source": [
    "f1_score(y_test, y_pred)"
   ]
  },
  {
   "cell_type": "code",
   "execution_count": 341,
   "id": "81f9f7e7",
   "metadata": {},
   "outputs": [],
   "source": [
    "from imblearn.over_sampling import RandomOverSampler"
   ]
  },
  {
   "cell_type": "code",
   "execution_count": null,
   "id": "3add33f7",
   "metadata": {
    "collapsed": true
   },
   "outputs": [],
   "source": []
  }
 ],
 "metadata": {
  "kernelspec": {
   "display_name": "Python 3 (ipykernel)",
   "language": "python",
   "name": "python3"
  },
  "language_info": {
   "codemirror_mode": {
    "name": "ipython",
    "version": 3
   },
   "file_extension": ".py",
   "mimetype": "text/x-python",
   "name": "python",
   "nbconvert_exporter": "python",
   "pygments_lexer": "ipython3",
   "version": "3.9.12"
  }
 },
 "nbformat": 4,
 "nbformat_minor": 5
}
